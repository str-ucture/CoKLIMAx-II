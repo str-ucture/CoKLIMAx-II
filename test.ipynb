{
 "cells": [
  {
   "cell_type": "code",
   "execution_count": 57,
   "metadata": {},
   "outputs": [],
   "source": [
    "import os\n",
    "\n",
    "# Define the directory containing the .html files\n",
    "directory = r\"./\"\n",
    "\n",
    "# Traverse through all files in the directory\n",
    "for root, _, files in os.walk(directory):\n",
    "    for file in files:\n",
    "        if file.endswith(\".html\"):\n",
    "            file_path = os.path.join(root, file)\n",
    "\n",
    "            # Read the file content\n",
    "            with open(file_path, \"r\", encoding=\"utf-8\") as f:\n",
    "                content = f.read()\n",
    "\n",
    "\n",
    "            original_html_snippet_en = f'View page source</a>'\n",
    "            replacement_html_snippet_en = f\"{original_html_snippet_en}\\n<div id='language-switcher' style='text-align: right; margin-top: 10px;'>\\n<a href='/CoKLIMAx-II/en/{file}''>English</a> | <a href='/CoKLIMAx-II/de/{file}''>Deutsch</a>\\n</div>\"\n",
    "\n",
    "            original_html_snippet_de = f'Quelltext anzeigen</a>'\n",
    "            replacement_html_snippet_de = f\"{original_html_snippet_de}\\n<div id='language-switcher' style='text-align: right; margin-top: 10px;'>\\n<a href='/CoKLIMAx-II/en/{file}''>English</a> | <a href='/CoKLIMAx-II/de/{file}''>Deutsch</a>\\n</div>\"\n",
    "\n",
    "            if original_html_snippet_en in content and 'language-switcher' not in content:\n",
    "                print(file_path)\n",
    "                print(replacement_html_snippet_en)\n",
    "                updated_content = content.replace(original_html_snippet_en, replacement_html_snippet_en)\n",
    "                print(f\"Added Language switcher button to (en) {file_path}\")\n",
    "            elif original_html_snippet_de in content and 'language-switcher' not in content:\n",
    "                print(file_path)\n",
    "                print(replacement_html_snippet_de)\n",
    "                updated_content = content.replace(original_html_snippet_de, replacement_html_snippet_de)\n",
    "                print(f\"Added Language switcher button to (de) {file_path}\")\n",
    "            else:\n",
    "                # Skip files that do not match the expected pattern\n",
    "                continue\n",
    "\n",
    "            # Write the updated content back to the file\n",
    "            with open(file_path, \"w\", encoding=\"utf-8\") as f:\n",
    "                f.write(updated_content)"
   ]
  }
 ],
 "metadata": {
  "kernelspec": {
   "display_name": "myenv",
   "language": "python",
   "name": "python3"
  },
  "language_info": {
   "codemirror_mode": {
    "name": "ipython",
    "version": 3
   },
   "file_extension": ".py",
   "mimetype": "text/x-python",
   "name": "python",
   "nbconvert_exporter": "python",
   "pygments_lexer": "ipython3",
   "version": "3.10.16"
  }
 },
 "nbformat": 4,
 "nbformat_minor": 2
}
