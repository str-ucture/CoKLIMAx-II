{
 "cells": [
  {
   "cell_type": "code",
   "execution_count": null,
   "metadata": {},
   "outputs": [
    {
     "data": {
      "text/html": [
       "\n",
       "<div style='border: 1px solid orange; color: black;\n",
       "     background-color: rgb(255, 214, 0);\n",
       "     margin: 0.5em; padding: 0.5em; font-weight: bold;'>\n",
       "<p>An API key is needed to access this dataset. Please visit\n",
       "<a href=\"https://cds.climate.copernicus.eu/\">https://cds.climate.copernicus.eu/</a> to register or sign-in\n",
       "then visit <a href=\"https://cds.climate.copernicus.eu/how-to-api\">https://cds.climate.copernicus.eu/how-to-api</a> to retrieve you API key.</p>\n",
       "<p>You can store the credentials in ~/.cdsapirc or in the file\n",
       "pointed by the CDSAPI_RC environment variable. If you follow\n",
       "the instructions below ~/.cdsapirc will be automatically created\n",
       "for you.\n",
       " Alternatively, you can use the CDSAPI_URL and CDSAPI_KEY environment variables to specify the credentials.</p>\n",
       "</div>\n"
      ],
      "text/plain": [
       "<IPython.core.display.HTML object>"
      ]
     },
     "metadata": {},
     "output_type": "display_data"
    },
    {
     "data": {
      "text/html": [
       "\n",
       "<div style='border: 1px solid gray; color: black;\n",
       "     background-color: rgb(230, 230, 230);\n",
       "     margin: 0.2em; padding: 0.2em; font-weight: bold;'>\n",
       "<p>Please enter a value for <span style='color: red;'>API url</span> or leave empty for the default value <span style='color: red;'>https://cds.climate.copernicus.eu/api</span>, then press <em>ENTER</em></p>\n",
       "</div>\n"
      ],
      "text/plain": [
       "<IPython.core.display.HTML object>"
      ]
     },
     "metadata": {},
     "output_type": "display_data"
    },
    {
     "data": {
      "text/html": [
       "\n",
       "<div style='border: 1px solid gray; color: black;\n",
       "     background-color: rgb(230, 230, 230);\n",
       "     margin: 0.2em; padding: 0.2em; font-weight: bold;'>\n",
       "<p>Please enter a value for <span style='color: red;'>API key</span>, then press <em>ENTER</em> The value should look like  <span style='color: red;'>abcdef01-0000-1111-2222-0123456789ab</span></p>\n",
       "</div>\n"
      ],
      "text/plain": [
       "<IPython.core.display.HTML object>"
      ]
     },
     "metadata": {},
     "output_type": "display_data"
    },
    {
     "name": "stderr",
     "output_type": "stream",
     "text": [
      "2025-02-27 09:17:26,767 INFO [2024-09-26T00:00:00] Watch our [Forum](https://forum.ecmwf.int/) for Announcements, news and other discussed topics.\n",
      "2025-02-27 09:17:26,767 WARNING [2024-06-16T00:00:00] CDS API syntax is changed and some keys or parameter names may have also changed. To avoid requests failing, please use the \"Show API request code\" tool on the dataset Download Form to check you are using the correct syntax for your API request.\n",
      "2025-02-27 09:17:26,935 INFO [2024-09-26T00:00:00] Watch our [Forum](https://forum.ecmwf.int/) for Announcements, news and other discussed topics.\n",
      "2025-02-27 09:17:26,935 WARNING [2024-06-16T00:00:00] CDS API syntax is changed and some keys or parameter names may have also changed. To avoid requests failing, please use the \"Show API request code\" tool on the dataset Download Form to check you are using the correct syntax for your API request.\n",
      "2025-02-27 09:17:27,260 INFO Request ID is a590701e-0335-4f7a-a791-322683dd0fdd\n",
      "2025-02-27 09:17:27,348 INFO status has been updated to accepted\n",
      "2025-02-27 09:17:32,370 INFO status has been updated to running\n",
      "2025-02-27 09:17:40,967 INFO status has been updated to successful\n"
     ]
    },
    {
     "data": {
      "application/vnd.jupyter.widget-view+json": {
       "model_id": "630c67ba93e74f6fb09fa147399079dd",
       "version_major": 2,
       "version_minor": 0
      },
      "text/plain": [
       "701d8fa80db788eae960a8cb38b7726c.grib:   0%|          | 0.00/1.98M [00:00<?, ?B/s]"
      ]
     },
     "metadata": {},
     "output_type": "display_data"
    },
    {
     "ename": "AttributeError",
     "evalue": "module 'earthkit.plots' has no attribute 'globe'",
     "output_type": "error",
     "traceback": [
      "\u001b[1;31m---------------------------------------------------------------------------\u001b[0m",
      "\u001b[1;31mAttributeError\u001b[0m                            Traceback (most recent call last)",
      "Cell \u001b[1;32mIn[1], line 16\u001b[0m\n\u001b[0;32m      1\u001b[0m \u001b[38;5;28;01mimport\u001b[39;00m\u001b[38;5;250m \u001b[39m\u001b[38;5;21;01mearthkit\u001b[39;00m\u001b[38;5;250m \u001b[39m\u001b[38;5;28;01mas\u001b[39;00m\u001b[38;5;250m \u001b[39m\u001b[38;5;21;01mek\u001b[39;00m\n\u001b[0;32m      3\u001b[0m data \u001b[38;5;241m=\u001b[39m ek\u001b[38;5;241m.\u001b[39mdata\u001b[38;5;241m.\u001b[39mfrom_source(\n\u001b[0;32m      4\u001b[0m     \u001b[38;5;124m'\u001b[39m\u001b[38;5;124mcds\u001b[39m\u001b[38;5;124m'\u001b[39m,\n\u001b[0;32m      5\u001b[0m     \u001b[38;5;124m'\u001b[39m\u001b[38;5;124mreanalysis-era5-single-levels\u001b[39m\u001b[38;5;124m'\u001b[39m,\n\u001b[1;32m   (...)\u001b[0m\n\u001b[0;32m     13\u001b[0m     },\n\u001b[0;32m     14\u001b[0m )\n\u001b[1;32m---> 16\u001b[0m \u001b[43mek\u001b[49m\u001b[38;5;241;43m.\u001b[39;49m\u001b[43mplots\u001b[49m\u001b[38;5;241;43m.\u001b[39;49m\u001b[43mglobe\u001b[49m(data)\n",
      "\u001b[1;31mAttributeError\u001b[0m: module 'earthkit.plots' has no attribute 'globe'"
     ]
    }
   ],
   "source": [
    "import earthkit as ek\n",
    "\n",
    "data = ek.data.from_source(\n",
    "    'cds',\n",
    "    'reanalysis-era5-single-levels',\n",
    "    {\n",
    "        'product_type': 'reanalysis',\n",
    "        'variable': '2m_temperature',\n",
    "        'year': '2023',\n",
    "        'month': '07',\n",
    "        'day': '3',\n",
    "        'time': '12:00',\n",
    "    },\n",
    ")"
   ]
  },
  {
   "cell_type": "code",
   "execution_count": 2,
   "metadata": {},
   "outputs": [
    {
     "ename": "AttributeError",
     "evalue": "module 'earthkit.plots' has no attribute 'globe'",
     "output_type": "error",
     "traceback": [
      "\u001b[1;31m---------------------------------------------------------------------------\u001b[0m",
      "\u001b[1;31mAttributeError\u001b[0m                            Traceback (most recent call last)",
      "Cell \u001b[1;32mIn[2], line 1\u001b[0m\n\u001b[1;32m----> 1\u001b[0m \u001b[43mek\u001b[49m\u001b[38;5;241;43m.\u001b[39;49m\u001b[43mplots\u001b[49m\u001b[38;5;241;43m.\u001b[39;49m\u001b[43mglobe\u001b[49m(data)\n",
      "\u001b[1;31mAttributeError\u001b[0m: module 'earthkit.plots' has no attribute 'globe'"
     ]
    }
   ],
   "source": [
    "ek.plots.globe(data)"
   ]
  }
 ],
 "metadata": {
  "kernelspec": {
   "display_name": "cds_env",
   "language": "python",
   "name": "python3"
  },
  "language_info": {
   "codemirror_mode": {
    "name": "ipython",
    "version": 3
   },
   "file_extension": ".py",
   "mimetype": "text/x-python",
   "name": "python",
   "nbconvert_exporter": "python",
   "pygments_lexer": "ipython3",
   "version": "3.10.16"
  }
 },
 "nbformat": 4,
 "nbformat_minor": 2
}
