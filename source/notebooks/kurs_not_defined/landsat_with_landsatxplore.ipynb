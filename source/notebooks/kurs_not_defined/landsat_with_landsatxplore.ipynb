{
 "cells": [
  {
   "cell_type": "markdown",
   "metadata": {},
   "source": [
    "# Landsat Dataset Downloader using Landsatxplorer"
   ]
  },
  {
   "cell_type": "markdown",
   "metadata": {},
   "source": [
    "### This notebook searches the available satellite images with and downloads it locally. \n",
    "\n",
    "Although it is open-source, there are many limitations like:\n",
    "- No filtering/clipping by bounds possible (The images needs to be post processed)\n",
    "- With the current code, the satellite images are downloaded as .tar file. Also, each band is saved as a single GeoTiff file inside the tar file.\n",
    "\n",
    "Other functionalities still needs to be explored"
   ]
  },
  {
   "cell_type": "code",
   "execution_count": 42,
   "metadata": {},
   "outputs": [],
   "source": [
    "import json\n",
    "from landsatxplore.api import API\n",
    "from landsatxplore.earthexplorer import EarthExplorer\n",
    "\n",
    "# Load credentials from a local JSON file\n",
    "with open(\"G:/usgs.json\", \"r\") as file:\n",
    "    credentials = json.load(file)\n",
    "\n",
    "username = credentials[\"username\"]\n",
    "password = credentials[\"password\"]\n",
    "\n",
    "api = API(username=username, password=password)"
   ]
  },
  {
   "cell_type": "code",
   "execution_count": 43,
   "metadata": {},
   "outputs": [],
   "source": [
    "# Search for Landsat TM scenes\n",
    "scenes = api.search(\n",
    "    dataset='landsat_tm_c2_l1',\n",
    "    latitude=50.85,\n",
    "    longitude=-4.35,\n",
    "    start_date='2000-01-01',\n",
    "    end_date='2000-10-01',\n",
    "    max_cloud_cover=10\n",
    ")"
   ]
  },
  {
   "cell_type": "code",
   "execution_count": 44,
   "metadata": {},
   "outputs": [
    {
     "name": "stdout",
     "output_type": "stream",
     "text": [
      "3 scenes found.\n"
     ]
    }
   ],
   "source": [
    "print(f\"{len(scenes)} scenes found.\")"
   ]
  },
  {
   "cell_type": "code",
   "execution_count": 45,
   "metadata": {},
   "outputs": [
    {
     "name": "stdout",
     "output_type": "stream",
     "text": [
      "LT52040252000200FUI00\n",
      "2000-07-18\n",
      "LT52040252000072FUI00\n",
      "2000-03-12\n",
      "LT52030252000033FUI02\n",
      "2000-02-02\n"
     ]
    }
   ],
   "source": [
    "# Process the result\n",
    "for scene in scenes:\n",
    "    print(scene['entity_id'])\n",
    "    print(scene['acquisition_date'].strftime('%Y-%m-%d'))"
   ]
  },
  {
   "cell_type": "markdown",
   "metadata": {},
   "source": [
    "**Example code**"
   ]
  },
  {
   "cell_type": "code",
   "execution_count": 46,
   "metadata": {},
   "outputs": [],
   "source": [
    "# from landsatxplore.earthexplorer import EarthExplorer\n",
    "\n",
    "# ee = EarthExplorer(username, password)\n",
    "# ee.download('LT52040252000200FUI00', output_dir='./data')\n",
    "# ee.logout()"
   ]
  }
 ],
 "metadata": {
  "kernelspec": {
   "display_name": "myenv",
   "language": "python",
   "name": "python3"
  },
  "language_info": {
   "codemirror_mode": {
    "name": "ipython",
    "version": 3
   },
   "file_extension": ".py",
   "mimetype": "text/x-python",
   "name": "python",
   "nbconvert_exporter": "python",
   "pygments_lexer": "ipython3",
   "version": "3.10.0"
  }
 },
 "nbformat": 4,
 "nbformat_minor": 2
}
