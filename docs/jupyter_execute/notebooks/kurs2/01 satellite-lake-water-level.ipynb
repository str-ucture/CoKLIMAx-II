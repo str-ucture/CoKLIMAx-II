{
 "cells": [
  {
   "cell_type": "markdown",
   "id": "23ebf1ed",
   "metadata": {},
   "source": [
    "# Satelliten-Wasserstände von Seen\n",
    "\n",
    "Dieses Datenset liefert Wasserstandsmessungen für 251 Seen auf vier Kontinenten, abgeleitet aus satellitenbasierter Radaraltimetrie. Diese Messungen stellen eine kostengünstige Alternative zu traditionellen bodengestützten Systemen dar und werden als wesentliche Klimavariable (Essential Climate Variable, ECV) eingestuft. Die Daten werden von CLS für den Copernicus Climate Change Service erstellt, um die hydrologische und klimatische Überwachung auf kontinentaler Ebene zu verbessern.\n",
    "\n",
    "**Informationen zum Datensatz:**\n",
    "* Quelle: [Satellite Lake Water Levels](https://cds.climate.copernicus.eu/datasets/satellite-lake-water-level?tab=overview)\n",
    "* Autor: T. Tewes (Stadt Konstanz)\n",
    "* Notebook-Version: 1.4 (Aktualisiert: 17. Januar 2025)"
   ]
  },
  {
   "cell_type": "markdown",
   "id": "dacce046",
   "metadata": {},
   "source": [
    "## 1. Festlegen der Pfade und Arbeitsverzeichnisse"
   ]
  },
  {
   "cell_type": "code",
   "execution_count": 1,
   "id": "a74e11ed",
   "metadata": {},
   "outputs": [],
   "source": [
    "import os\n",
    "\n",
    "''' ---- Verzeichnisse hier angeben ---- '''\n",
    "download_folder = r\".\\data\\satellite-lake-water-level\\download\"\n",
    "working_folder = r\".\\data\\satellite-lake-water-level\\working\"\n",
    "geotiff_folder = r\".\\data\\satellite-lake-water-level\\geotiff\"\n",
    "csv_folder = r\".\\data\\satellite-lake-water-level\\csv\"\n",
    "output_folder = r\".\\data\\satellite-lake-water-level\\output\"\n",
    "''' ----- Ende der Angaben ---- '''\n",
    "\n",
    "os.makedirs(download_folder, exist_ok=True)\n",
    "os.makedirs(working_folder, exist_ok=True)\n",
    "os.makedirs(geotiff_folder, exist_ok=True)\n",
    "os.makedirs(csv_folder, exist_ok=True)\n",
    "os.makedirs(output_folder, exist_ok=True)\n"
   ]
  },
  {
   "cell_type": "markdown",
   "id": "3c4fbb35",
   "metadata": {},
   "source": [
    "## 2. Herunterladen und Entpacken des Datensatzes\n"
   ]
  },
  {
   "cell_type": "markdown",
   "id": "d9519e01",
   "metadata": {},
   "source": [
    "### 2.1 Authentifizierung"
   ]
  },
  {
   "cell_type": "code",
   "execution_count": 2,
   "id": "507616bf",
   "metadata": {},
   "outputs": [],
   "source": [
    "import cdsapi\n",
    "\n",
    "def main():\n",
    "    # API-Schlüssel für die Authentifizierung\n",
    "    api_key = \"fdae60fd-35d4-436f-825c-c63fedab94a4\"\n",
    "    api_url = \"https://cds.climate.copernicus.eu/api\"\n",
    "    \n",
    "    # Erstellung des CDS-API-Clients\n",
    "    client = cdsapi.Client(url=api_url, key=api_key)\n",
    "    return client"
   ]
  },
  {
   "cell_type": "markdown",
   "id": "233eefdd",
   "metadata": {},
   "source": [
    "### 2.2 Anforderungsdefinition und Download der Daten"
   ]
  },
  {
   "cell_type": "code",
   "execution_count": 3,
   "id": "a199e44d",
   "metadata": {},
   "outputs": [],
   "source": [
    "# Definition des Datensatzes und der Anfrageparameter\n",
    "dataset = \"satellite-lake-water-level\"\n",
    "request = {\n",
    "    \"variable\": \"all\", \n",
    "    \"region\": [\"southern_europe\"],\n",
    "    \"lake\": [\"bodensee\"]\n",
    "}"
   ]
  },
  {
   "cell_type": "code",
   "execution_count": 4,
   "id": "cff16f16",
   "metadata": {},
   "outputs": [
    {
     "name": "stderr",
     "output_type": "stream",
     "text": [
      "2025-01-17 11:00:37,410 INFO [2024-09-28T00:00:00] **Welcome to the New Climate Data Store (CDS)!** This new system is in its early days of full operations and still undergoing enhancements and fine tuning. Some disruptions are to be expected. Your \n",
      "[feedback](https://jira.ecmwf.int/plugins/servlet/desk/portal/1/create/202) is key to improve the user experience on the new CDS for the benefit of everyone. Thank you.\n"
     ]
    },
    {
     "name": "stderr",
     "output_type": "stream",
     "text": [
      "2025-01-17 11:00:37,411 INFO [2024-09-26T00:00:00] Watch our [Forum](https://forum.ecmwf.int/) for Announcements, news and other discussed topics.\n"
     ]
    },
    {
     "name": "stderr",
     "output_type": "stream",
     "text": [
      "2025-01-17 11:00:37,412 INFO [2024-09-16T00:00:00] Remember that you need to have an ECMWF account to use the new CDS. **Your old CDS credentials will not work in new CDS!**\n"
     ]
    },
    {
     "name": "stderr",
     "output_type": "stream",
     "text": [
      "2025-01-17 11:00:37,412 WARNING [2024-06-16T00:00:00] CDS API syntax is changed and some keys or parameter names may have also changed. To avoid requests failing, please use the \"Show API request code\" tool on the dataset Download Form to check you are using the correct syntax for your API request.\n"
     ]
    },
    {
     "name": "stdout",
     "output_type": "stream",
     "text": [
      "Datensatz bereits heruntergeladen.\n"
     ]
    }
   ],
   "source": [
    "# Kommentiere diese Zelle ein und führe sie aus, um den Datensatz herunterzuladen:\n",
    "\n",
    "def main_retrieve():\n",
    "    dataset_filename = f\"{dataset}_bodensee.zip\"\n",
    "    dataset_filepath = os.path.join(download_folder, dataset_filename)\n",
    "\n",
    "    # Den Datensatz nur herunterladen, wenn er noch nicht heruntergeladen wurde\n",
    "    if not os.path.isfile(dataset_filepath):\n",
    "        # Den Datensatz mit den definierten Anforderungsparametern herunterladen\n",
    "        client.retrieve(dataset, request, dataset_filepath)\n",
    "    else:\n",
    "        print(\"Datensatz bereits heruntergeladen.\")\n",
    "\n",
    "if __name__ == \"__main__\":\n",
    "    client = main()\n",
    "    main_retrieve()"
   ]
  },
  {
   "cell_type": "markdown",
   "id": "da2004d3",
   "metadata": {},
   "source": [
    "### 2.3 Entpacken des Zip-Ordners"
   ]
  },
  {
   "cell_type": "code",
   "execution_count": 5,
   "id": "1e6bc1af",
   "metadata": {},
   "outputs": [
    {
     "name": "stdout",
     "output_type": "stream",
     "text": [
      "Ordner ist nicht leer. Entpacken überspringen.\n"
     ]
    }
   ],
   "source": [
    "import zipfile\n",
    "\n",
    "# Erstellen des Dateinamens und des Dateipfads für die ZIP-Datei des Datensatzes\n",
    "dataset_filename = f\"{dataset}_bodensee.zip\"\n",
    "dataset_filepath = os.path.join(download_folder, dataset_filename)\n",
    "extract_folder = working_folder\n",
    "\n",
    "# Entpacken der ZIP-Datei\n",
    "try:\n",
    "    if not os.listdir(extract_folder):\n",
    "        with zipfile.ZipFile(dataset_filepath, 'r') as zip_ref:\n",
    "            zip_ref.extractall(extract_folder)\n",
    "            print(f\"Dateien erfolgreich extrahiert nach: {extract_folder}\")\n",
    "    else:\n",
    "        print(\"Ordner ist nicht leer. Entpacken überspringen.\")\n",
    "except FileNotFoundError:\n",
    "    print(f\"Fehler: Die Datei {dataset_filepath} wurde nicht gefunden.\")\n",
    "except zipfile.BadZipFile:\n",
    "    print(f\"Fehler: Die Datei {dataset_filepath} ist keine gültige ZIP-Datei.\")\n",
    "except Exception as e:\n",
    "    print(f\"Ein unerwarteter Fehler ist aufgetreten: {e}\")"
   ]
  },
  {
   "cell_type": "markdown",
   "id": "1be20e24",
   "metadata": {},
   "source": [
    "## 3. Lesen der netCDF4-Datei und Ausdrucken der Metadaten"
   ]
  },
  {
   "cell_type": "code",
   "execution_count": 6,
   "id": "8491c236",
   "metadata": {},
   "outputs": [
    {
     "name": "stdout",
     "output_type": "stream",
     "text": [
      "Verfügbare Variablen: ['time', 'lat', 'lon', 'water_surface_height_above_reference_datum', 'water_surface_height_uncertainty']\n"
     ]
    }
   ],
   "source": [
    "import netCDF4 as nc\n",
    "\n",
    "# Öffnen der NetCDF-Datei im Lesemodus\n",
    "nc_filepath = os.path.join(extract_folder, os.listdir(extract_folder)[0])\n",
    "dataset = nc.Dataset(nc_filepath, mode='r')\n",
    "\n",
    "# Auflisten aller Variablen im Datensatz\n",
    "variables_list = dataset.variables.keys()\n",
    "print(f\"Verfügbare Variablen: {list(variables_list)}\")"
   ]
  },
  {
   "cell_type": "code",
   "execution_count": 7,
   "id": "131d71a3",
   "metadata": {},
   "outputs": [
    {
     "data": {
      "text/html": [
       "<div>\n",
       "<style scoped>\n",
       "    .dataframe tbody tr th:only-of-type {\n",
       "        vertical-align: middle;\n",
       "    }\n",
       "\n",
       "    .dataframe tbody tr th {\n",
       "        vertical-align: top;\n",
       "    }\n",
       "\n",
       "    .dataframe thead th {\n",
       "        text-align: right;\n",
       "    }\n",
       "</style>\n",
       "<table border=\"1\" class=\"dataframe\">\n",
       "  <thead>\n",
       "    <tr style=\"text-align: right;\">\n",
       "      <th></th>\n",
       "      <th>Beschreibung</th>\n",
       "      <th>Details</th>\n",
       "    </tr>\n",
       "  </thead>\n",
       "  <tbody>\n",
       "    <tr>\n",
       "      <th>0</th>\n",
       "      <td>Variablenname</td>\n",
       "      <td>water_surface_height_above_reference_datum</td>\n",
       "    </tr>\n",
       "    <tr>\n",
       "      <th>1</th>\n",
       "      <td>Daten Typ</td>\n",
       "      <td>float64</td>\n",
       "    </tr>\n",
       "    <tr>\n",
       "      <th>2</th>\n",
       "      <td>Form</td>\n",
       "      <td>(101,)</td>\n",
       "    </tr>\n",
       "    <tr>\n",
       "      <th>3</th>\n",
       "      <td>Variableninfo</td>\n",
       "      <td>water_surface_height_above_reference_datum(time)</td>\n",
       "    </tr>\n",
       "    <tr>\n",
       "      <th>4</th>\n",
       "      <td>Einheiten</td>\n",
       "      <td>m</td>\n",
       "    </tr>\n",
       "    <tr>\n",
       "      <th>5</th>\n",
       "      <td>Langer Name</td>\n",
       "      <td>water surface height above geoid</td>\n",
       "    </tr>\n",
       "  </tbody>\n",
       "</table>\n",
       "</div>"
      ],
      "text/plain": [
       "    Beschreibung                                           Details\n",
       "0  Variablenname        water_surface_height_above_reference_datum\n",
       "1      Daten Typ                                           float64\n",
       "2           Form                                            (101,)\n",
       "3  Variableninfo  water_surface_height_above_reference_datum(time)\n",
       "4      Einheiten                                                 m\n",
       "5    Langer Name                  water surface height above geoid"
      ]
     },
     "execution_count": 7,
     "metadata": {},
     "output_type": "execute_result"
    }
   ],
   "source": [
    "import pandas as pd\n",
    "\n",
    "variable_name = 'water_surface_height_above_reference_datum'\n",
    "variable_data = dataset[variable_name]\n",
    "\n",
    "# Erstellen einer Zusammenfassung der Hauptvariablen\n",
    "summary = {\n",
    "    \"Variablenname\": variable_name,\n",
    "    \"Daten Typ\": variable_data.dtype,\n",
    "    \"Form\": variable_data.shape,\n",
    "    \"Variableninfo\": f\"{variable_name}({', '.join(variable_data.dimensions)})\",\n",
    "    \"Einheiten\": getattr(variable_data, \"units\", \"N/A\"),\n",
    "    \"Langer Name\": getattr(variable_data, \"long_name\", \"N/A\"),\n",
    "}\n",
    "\n",
    "# Anzeigen der Zusammenfassung des Datensatzes als DataFrame zur besseren Visualisierung\n",
    "nc_summary = pd.DataFrame(list(summary.items()), columns=['Beschreibung', 'Details'])\n",
    "\n",
    "# Anzeigen des Zusammenfassungs-DataFrames\n",
    "nc_summary"
   ]
  },
  {
   "cell_type": "markdown",
   "id": "e33ca986",
   "metadata": {},
   "source": [
    "## 4. Exportieren als CSV"
   ]
  },
  {
   "cell_type": "markdown",
   "id": "fb83981d",
   "metadata": {},
   "source": [
    "### 4.1 Erstellen des DataFrames und Exportieren als CSV"
   ]
  },
  {
   "cell_type": "code",
   "execution_count": 8,
   "id": "f22c16ab",
   "metadata": {},
   "outputs": [
    {
     "name": "stdout",
     "output_type": "stream",
     "text": [
      "Die Datei .\\data\\satellite-lake-water-level\\csv\\satellite-lake-water-level.csv existiert bereits. Export wird übersprungen.\n"
     ]
    },
    {
     "data": {
      "text/html": [
       "<div>\n",
       "<style scoped>\n",
       "    .dataframe tbody tr th:only-of-type {\n",
       "        vertical-align: middle;\n",
       "    }\n",
       "\n",
       "    .dataframe tbody tr th {\n",
       "        vertical-align: top;\n",
       "    }\n",
       "\n",
       "    .dataframe thead th {\n",
       "        text-align: right;\n",
       "    }\n",
       "</style>\n",
       "<table border=\"1\" class=\"dataframe\">\n",
       "  <thead>\n",
       "    <tr style=\"text-align: right;\">\n",
       "      <th></th>\n",
       "      <th>Wasserstandshöhe (m)</th>\n",
       "      <th>Unsicherheit</th>\n",
       "    </tr>\n",
       "    <tr>\n",
       "      <th>Zeit</th>\n",
       "      <th></th>\n",
       "      <th></th>\n",
       "    </tr>\n",
       "  </thead>\n",
       "  <tbody>\n",
       "    <tr>\n",
       "      <th>2016-03-23 20:43:59.997482</th>\n",
       "      <td>394.44</td>\n",
       "      <td>0.29</td>\n",
       "    </tr>\n",
       "    <tr>\n",
       "      <th>2016-04-19 20:43:59.997482</th>\n",
       "      <td>394.62</td>\n",
       "      <td>0.49</td>\n",
       "    </tr>\n",
       "    <tr>\n",
       "      <th>2016-05-16 20:44:59.998284</th>\n",
       "      <td>395.41</td>\n",
       "      <td>0.21</td>\n",
       "    </tr>\n",
       "    <tr>\n",
       "      <th>2016-06-12 20:44:59.998284</th>\n",
       "      <td>395.72</td>\n",
       "      <td>0.58</td>\n",
       "    </tr>\n",
       "    <tr>\n",
       "      <th>2016-07-09 20:44:59.998284</th>\n",
       "      <td>396.13</td>\n",
       "      <td>0.13</td>\n",
       "    </tr>\n",
       "  </tbody>\n",
       "</table>\n",
       "</div>"
      ],
      "text/plain": [
       "                            Wasserstandshöhe (m)  Unsicherheit\n",
       "Zeit                                                          \n",
       "2016-03-23 20:43:59.997482                394.44          0.29\n",
       "2016-04-19 20:43:59.997482                394.62          0.49\n",
       "2016-05-16 20:44:59.998284                395.41          0.21\n",
       "2016-06-12 20:44:59.998284                395.72          0.58\n",
       "2016-07-09 20:44:59.998284                396.13          0.13"
      ]
     },
     "execution_count": 8,
     "metadata": {},
     "output_type": "execute_result"
    }
   ],
   "source": [
    "import netCDF4 as nc\n",
    "\n",
    "# Funktion zum Umwandeln von netCDF in CSV (nur Zeit und eine Variable)\n",
    "def netcdf_to_dataframe(nc_file):\n",
    "    with nc.Dataset(nc_file, mode=\"r\") as nc_dataset:\n",
    "        # Extrahiere die Daten und die Zeit\n",
    "        time = nc_dataset.variables['time'][:]\n",
    "        time_units = nc_dataset.variables['time'].units\n",
    "        time_calendar = getattr(nc_dataset.variables['time'], 'calendar', 'standard')\n",
    "        cftime = nc.num2date(time, units=time_units, calendar=time_calendar)\n",
    "        \n",
    "        # Extrahiere die Daten\n",
    "        water_surface_height = nc_dataset.variables['water_surface_height_above_reference_datum'][:]\n",
    "        wsh_units = nc_dataset.variables[\"water_surface_height_above_reference_datum\"].units\n",
    "        wsh_uncertainty = nc_dataset.variables['water_surface_height_uncertainty'][:]\n",
    "        \n",
    "        # Erstelle eine Liste von Einträgen für das DataFrame (nur Zeit und die Variable)\n",
    "        df = pd.DataFrame(\n",
    "            {\n",
    "                \"Zeit\": cftime,\n",
    "                f\"Wasserstandshöhe ({wsh_units})\": water_surface_height,\n",
    "                f\"Unsicherheit\": wsh_uncertainty,\n",
    "            }\n",
    "        )\n",
    "       \n",
    "        # Setze den Index auf die Zeit\n",
    "        return df.set_index('Zeit')\n",
    "\n",
    "# Rufe die Funktion auf und erhalte das DataFrame\n",
    "df = netcdf_to_dataframe(nc_filepath)\n",
    "\n",
    "# Generiere den Ausgabe-Dateipfad\n",
    "csv_filename = 'satellite-lake-water-level.csv'\n",
    "csv_path = os.path.join(csv_folder, csv_filename)\n",
    "\n",
    "# Exportiere die Pivot-Tabelle als CSV, falls sie noch nicht existiert\n",
    "if not os.path.isfile(csv_path):\n",
    "    df.to_csv(csv_path)\n",
    "    print(f\"Zusammenfassungsdaten wurden nach {csv_path} exportiert.\")\n",
    "else:\n",
    "    print(f\"Die Datei {csv_path} existiert bereits. Export wird übersprungen.\")\n",
    "\n",
    "# Zeige das DataFrame an\n",
    "df.head()"
   ]
  }
 ],
 "metadata": {
  "kernelspec": {
   "display_name": "myenv",
   "language": "python",
   "name": "python3"
  },
  "language_info": {
   "codemirror_mode": {
    "name": "ipython",
    "version": 3
   },
   "file_extension": ".py",
   "mimetype": "text/x-python",
   "name": "python",
   "nbconvert_exporter": "python",
   "pygments_lexer": "ipython3",
   "version": "3.10.16"
  },
  "widgets": {
   "application/vnd.jupyter.widget-state+json": {
    "state": {},
    "version_major": 2,
    "version_minor": 0
   }
  }
 },
 "nbformat": 4,
 "nbformat_minor": 5
}