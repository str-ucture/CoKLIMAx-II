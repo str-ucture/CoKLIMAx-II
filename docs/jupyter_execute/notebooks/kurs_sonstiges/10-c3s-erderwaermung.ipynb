{
 "cells": [
  {
   "cell_type": "markdown",
   "metadata": {},
   "source": [
    "# Global Warming\n",
    "\n",
    "This notebook builds on the Copernicus Climate Change Service (C3S) global temperature trend monitor and provides monthly updates on global air temperatures based on the latest **ERA5 reanalysis data**. By analyzing the 30-year linear trend up to the most recent data, it estimates the current level of global warming compared to pre-industrial temperatures and predicts when the 1.5°C threshold set by the Paris Agreement might be reached.\n",
    "\n",
    "This Jupyter notebook contains all the Python code used to calculate the statistics and create the visualizations for the global temperature trend monitor."
   ]
  },
  {
   "cell_type": "markdown",
   "metadata": {},
   "source": [
    "Datasets\n",
    "* ERA5 reanalysis data\n",
    "* ECV (Essential Climate Variables)\n",
    "* IPCC Projection"
   ]
  },
  {
   "cell_type": "markdown",
   "metadata": {},
   "source": [
    "## Codes"
   ]
  },
  {
   "cell_type": "code",
   "execution_count": 1,
   "metadata": {},
   "outputs": [],
   "source": [
    "import os\n",
    "\n",
    "''' ---- Specify Directories Here ---- '''\n",
    "working_folder = r\".\\data\\global_warming\"\n",
    "era5_folder = r\".\\data\\global_warming\\era5\"\n",
    "ecv_folder = r\".\\data\\global_warming\\ecv\"\n",
    "ipcc_folder = r\".\\data\\global_warming\\ipcc\"\n",
    "''' ----- End of Declaration ---- '''\n",
    "\n",
    "os.makedirs(working_folder, exist_ok=True)\n",
    "os.makedirs(era5_folder, exist_ok=True)\n",
    "os.makedirs(ecv_folder, exist_ok=True)\n",
    "os.makedirs(ipcc_folder, exist_ok=True)"
   ]
  },
  {
   "cell_type": "code",
   "execution_count": 2,
   "metadata": {},
   "outputs": [],
   "source": [
    "import cdsapi\n",
    "\n",
    "def main():\n",
    "    # API key for authentication\n",
    "    api_key = \"fdae60fd-35d4-436f-825c-c63fedab94a4\"\n",
    "    api_url = \"https://cds.climate.copernicus.eu/api\"\n",
    "\n",
    "    # Creation of the CDS API client\n",
    "    client = cdsapi.Client(url=api_url, key=api_key)\n",
    "    return client"
   ]
  },
  {
   "cell_type": "markdown",
   "metadata": {},
   "source": [
    "## ERA5"
   ]
  },
  {
   "cell_type": "code",
   "execution_count": 3,
   "metadata": {},
   "outputs": [],
   "source": [
    "dataset = \"reanalysis-era5-single-levels-monthly-means\"\n",
    "request = {\n",
    "    \"product_type\": [\"monthly_averaged_reanalysis\"],\n",
    "    \"variable\": [\"2m_temperature\"],\n",
    "    \"year\": [str(year) for year in range(1979, 2025)],\n",
    "    \"month\": [str(month).zfill(2) for month in range(1, 13)],\n",
    "    \"time\": [\"00:00\"],\n",
    "    \"data_format\": \"netcdf\",\n",
    "    \"download_format\": \"unarchived\",\n",
    "    \"area\": [90, -180, -90, 180],\n",
    "}"
   ]
  },
  {
   "cell_type": "code",
   "execution_count": 4,
   "metadata": {},
   "outputs": [
    {
     "name": "stdout",
     "output_type": "stream",
     "text": [
      "Dataset already downloaded.\n"
     ]
    }
   ],
   "source": [
    "# Execute it to download the dataset:\n",
    "def main_retrieve():\n",
    "    dataset_filename = f\"{dataset}-global.nc\"\n",
    "    dataset_filepath = os.path.join(era5_folder, dataset_filename)\n",
    "\n",
    "    # Download the dataset only if the dataset has not been downloaded before\n",
    "    if not os.path.isfile(dataset_filepath):\n",
    "        # Call the CDS client only if the dataset has not been downloaded before\n",
    "        client = main()\n",
    "        # Download the dataset with the defined request parameters\n",
    "        client.retrieve(dataset, request, dataset_filepath)\n",
    "    else:\n",
    "        print(\"Dataset already downloaded.\")\n",
    "\n",
    "if __name__ == \"__main__\":\n",
    "    main_retrieve()"
   ]
  },
  {
   "cell_type": "code",
   "execution_count": 5,
   "metadata": {},
   "outputs": [
    {
     "name": "stdout",
     "output_type": "stream",
     "text": [
      "Available variables: ['number', 'valid_time', 'latitude', 'longitude', 'expver', 't2m']\n"
     ]
    }
   ],
   "source": [
    "import netCDF4 as nc\n",
    "\n",
    "dataset_filename = f\"{dataset}-global.nc\"\n",
    "nc_filepath = os.path.join(era5_folder, dataset_filename)\n",
    "\n",
    "nc_dataset = nc.Dataset(nc_filepath, mode='r')\n",
    "# List all variables in the dataset\n",
    "variables_list = nc_dataset.variables.keys()\n",
    "print(f\"Available variables: {list(variables_list)}\")"
   ]
  },
  {
   "cell_type": "markdown",
   "metadata": {},
   "source": [
    "## ECV"
   ]
  },
  {
   "cell_type": "code",
   "execution_count": 6,
   "metadata": {},
   "outputs": [],
   "source": [
    "# Note: Dataset available in grib format (\"data_format\": \"netcdf\" doesnt work)\n",
    "\n",
    "dataset = \"ecv-for-climate-change\"\n",
    "request = {\n",
    "    \"variable\": [\"surface_air_temperature\"],\n",
    "    \"origin\": [\"era5\"],\n",
    "    \"product_type\": [\"climatology\"],\n",
    "    \"climate_reference_period\": [\"1981_2010\"],\n",
    "    \"month\": [\n",
    "        \"01\", \"02\", \"03\",\n",
    "        \"04\", \"05\", \"06\",\n",
    "        \"07\", \"08\", \"09\",\n",
    "        \"10\", \"11\", \"12\"\n",
    "    ],\n",
    "}"
   ]
  },
  {
   "cell_type": "code",
   "execution_count": 7,
   "metadata": {},
   "outputs": [
    {
     "name": "stdout",
     "output_type": "stream",
     "text": [
      "Dataset already downloaded.\n"
     ]
    }
   ],
   "source": [
    "# Execute it to download the dataset:\n",
    "def main_retrieve():\n",
    "    dataset_filename = f\"{dataset}-global.zip\"\n",
    "    dataset_filepath = os.path.join(ecv_folder, dataset_filename)\n",
    "\n",
    "    # Download the dataset only if the dataset has not been downloaded before\n",
    "    if not os.path.isfile(dataset_filepath):\n",
    "        # Call the CDS client only if the dataset has not been downloaded before\n",
    "        client = main()\n",
    "        # Download the dataset with the defined request parameters\n",
    "        client.retrieve(dataset, request, dataset_filepath)\n",
    "    else:\n",
    "        print(\"Dataset already downloaded.\")\n",
    "\n",
    "if __name__ == \"__main__\":\n",
    "    main_retrieve()"
   ]
  },
  {
   "cell_type": "code",
   "execution_count": 8,
   "metadata": {},
   "outputs": [
    {
     "ename": "FileNotFoundError",
     "evalue": "[Errno 2] No such file or directory: '.\\\\data\\\\global_warming\\\\ecv\\\\ecv-for-climate-change-global_nc.zip'",
     "output_type": "error",
     "traceback": [
      "\u001b[1;31m---------------------------------------------------------------------------\u001b[0m",
      "\u001b[1;31mFileNotFoundError\u001b[0m                         Traceback (most recent call last)",
      "Cell \u001b[1;32mIn[8], line 7\u001b[0m\n\u001b[0;32m      4\u001b[0m dataset_filename \u001b[38;5;241m=\u001b[39m \u001b[38;5;124mf\u001b[39m\u001b[38;5;124m\"\u001b[39m\u001b[38;5;132;01m{\u001b[39;00mdataset\u001b[38;5;132;01m}\u001b[39;00m\u001b[38;5;124m-global_nc.zip\u001b[39m\u001b[38;5;124m\"\u001b[39m\n\u001b[0;32m      5\u001b[0m zip_filepath \u001b[38;5;241m=\u001b[39m os\u001b[38;5;241m.\u001b[39mpath\u001b[38;5;241m.\u001b[39mjoin(ecv_folder, dataset_filename)\n\u001b[1;32m----> 7\u001b[0m \u001b[38;5;28;01mwith\u001b[39;00m \u001b[43mzipfile\u001b[49m\u001b[38;5;241;43m.\u001b[39;49m\u001b[43mZipFile\u001b[49m\u001b[43m(\u001b[49m\u001b[43mzip_filepath\u001b[49m\u001b[43m,\u001b[49m\u001b[43m \u001b[49m\u001b[38;5;124;43m'\u001b[39;49m\u001b[38;5;124;43mr\u001b[39;49m\u001b[38;5;124;43m'\u001b[39;49m\u001b[43m)\u001b[49m \u001b[38;5;28;01mas\u001b[39;00m zip_ref:\n\u001b[0;32m      8\u001b[0m     zip_ref\u001b[38;5;241m.\u001b[39mextractall(ecv_folder)\n",
      "File \u001b[1;32mc:\\Users\\ShaileshShrestha\\anaconda3\\envs\\cds_env\\lib\\zipfile.py:1254\u001b[0m, in \u001b[0;36mZipFile.__init__\u001b[1;34m(self, file, mode, compression, allowZip64, compresslevel, strict_timestamps)\u001b[0m\n\u001b[0;32m   1252\u001b[0m \u001b[38;5;28;01mwhile\u001b[39;00m \u001b[38;5;28;01mTrue\u001b[39;00m:\n\u001b[0;32m   1253\u001b[0m     \u001b[38;5;28;01mtry\u001b[39;00m:\n\u001b[1;32m-> 1254\u001b[0m         \u001b[38;5;28mself\u001b[39m\u001b[38;5;241m.\u001b[39mfp \u001b[38;5;241m=\u001b[39m \u001b[43mio\u001b[49m\u001b[38;5;241;43m.\u001b[39;49m\u001b[43mopen\u001b[49m\u001b[43m(\u001b[49m\u001b[43mfile\u001b[49m\u001b[43m,\u001b[49m\u001b[43m \u001b[49m\u001b[43mfilemode\u001b[49m\u001b[43m)\u001b[49m\n\u001b[0;32m   1255\u001b[0m     \u001b[38;5;28;01mexcept\u001b[39;00m \u001b[38;5;167;01mOSError\u001b[39;00m:\n\u001b[0;32m   1256\u001b[0m         \u001b[38;5;28;01mif\u001b[39;00m filemode \u001b[38;5;129;01min\u001b[39;00m modeDict:\n",
      "\u001b[1;31mFileNotFoundError\u001b[0m: [Errno 2] No such file or directory: '.\\\\data\\\\global_warming\\\\ecv\\\\ecv-for-climate-change-global_nc.zip'"
     ]
    }
   ],
   "source": [
    "import netCDF4 as nc\n",
    "import zipfile\n",
    "\n",
    "dataset_filename = f\"{dataset}-global_nc.zip\"\n",
    "zip_filepath = os.path.join(ecv_folder, dataset_filename)\n",
    "\n",
    "with zipfile.ZipFile(zip_filepath, 'r') as zip_ref:\n",
    "    zip_ref.extractall(ecv_folder)\n",
    "\n",
    "    "
   ]
  },
  {
   "cell_type": "markdown",
   "metadata": {},
   "source": [
    "## IPCC"
   ]
  },
  {
   "cell_type": "code",
   "execution_count": 21,
   "metadata": {},
   "outputs": [
    {
     "name": "stdout",
     "output_type": "stream",
     "text": [
      "Datei .\\data\\global_warming\\ipcc\\ipcc_projections_sr15.csv ist bereits vorhanden. Kein Download erforderlich.\n",
      "     year  min_t  max_t\n",
      "0    1850 -0.023 -0.035\n",
      "1    1851 -0.022 -0.033\n",
      "2    1852 -0.021 -0.032\n",
      "3    1853 -0.020 -0.030\n",
      "4    1854 -0.019 -0.029\n",
      "..    ...    ...    ...\n",
      "246  2096  0.924  2.011\n",
      "247  2097  0.922  2.011\n",
      "248  2098  0.921  2.011\n",
      "249  2099  0.920  2.010\n",
      "250  2100  0.918  2.010\n",
      "\n",
      "[251 rows x 3 columns]\n"
     ]
    }
   ],
   "source": [
    "import requests\n",
    "import pandas as pd\n",
    "\n",
    "# URL der CSV-Daten\n",
    "IPCC_DATA = \"https://apps.climate.copernicus.eu/global-temperature-trend-monitor/ipcc-projections-sr15.csv\"\n",
    "\n",
    "# Funktion zum Herunterladen einer Datei mit Zertifikatsüberprüfung\n",
    "def download_file(url, filename):\n",
    "    if os.path.exists(filename):\n",
    "        print(f\"Datei {filename} ist bereits vorhanden. Kein Download erforderlich.\")\n",
    "        return\n",
    "    try:\n",
    "        response = requests.get(url, verify=True)\n",
    "        response.raise_for_status()  # Check for HTTP errors\n",
    "    except requests.exceptions.SSLError:\n",
    "        response = requests.get(url, verify=False)  # Falls Zertifikat fehlt, ohne Zertifikatsüberprüfung herunterladen\n",
    "    with open(filename, 'wb') as file:\n",
    "        file.write(response.content)\n",
    "    print(f\"Datei {filename} erfolgreich heruntergeladen.\")\n",
    "\n",
    "# Dateiname und Ordner festlegen\n",
    "filename = \"ipcc_projections_sr15.csv\"\n",
    "ipcc_download = os.path.join(ipcc_folder, filename)\n",
    "\n",
    "# Datei herunterladen\n",
    "download_file(IPCC_DATA, ipcc_download)\n",
    "\n",
    "# CSV-Datei laden\n",
    "ipcc = pd.read_csv(ipcc_download)\n",
    "\n",
    "print(ipcc)"
   ]
  }
 ],
 "metadata": {
  "kernelspec": {
   "display_name": "myenv",
   "language": "python",
   "name": "python3"
  },
  "language_info": {
   "codemirror_mode": {
    "name": "ipython",
    "version": 3
   },
   "file_extension": ".py",
   "mimetype": "text/x-python",
   "name": "python",
   "nbconvert_exporter": "python",
   "pygments_lexer": "ipython3",
   "version": "3.10.16"
  }
 },
 "nbformat": 4,
 "nbformat_minor": 2
}