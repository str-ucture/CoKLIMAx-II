{
 "cells": [
  {
   "cell_type": "markdown",
   "id": "dc27cabd",
   "metadata": {},
   "source": [
    "# CDS API installieren und herunterladen"
   ]
  },
  {
   "cell_type": "code",
   "execution_count": null,
   "id": "525a944d-5619-4350-ba3c-cddc4922dca5",
   "metadata": {},
   "outputs": [],
   "source": [
    "# In diesem Notebook testest du die Funktionalität der CDS-API.\n",
    "# Definiere zunächst deinen Ausgabeordner.\n",
    "# Der Pfad sollte so gewählt sein, dass du deine heruntergeladenen Dateien schnell finden kannst.\n",
    "# Als Beispiel haben wir im aktuellen Ordner einen Ordner namens „CDSdata“ erstellt."
   ]
  },
  {
   "cell_type": "code",
   "execution_count": 5,
   "id": "a2115b56-c888-4feb-a2ad-57488ec08a46",
   "metadata": {},
   "outputs": [],
   "source": [
    "import os\n",
    "\n",
    "# Beispiel: \"./CDSdata/\"\n",
    "download_folder = r\"./CDSdata/\"  # Um den Ordner zu ändern, ersetzen Sie den Ordnerpfad innerhalb der Anführungszeichen\n",
    "\n",
    "# Sie können den Ordner \"CDSdata\" auch direkt im Notebook erstellen lassen, falls Sie ihn noch nicht erstellt haben.\n",
    "os.makedirs(download_folder, exist_ok=True)\n",
    "# Falls Sie das nicht möchten, kommentieren Sie einfach die obige Zeile aus (#)."
   ]
  },
  {
   "cell_type": "code",
   "execution_count": 6,
   "id": "e7476e11-8ad7-4b28-ab4a-32d809aecdc7",
   "metadata": {},
   "outputs": [],
   "source": [
    "import cdsapi\n",
    "# Jetzt können Sie Ihren API-Schlüssel verwenden.\n",
    "\n",
    "def main():\n",
    "    # Ersetzen Sie den Text mit Ihrem persönlichen API-Schlüssel.\n",
    "    api_key = \"fdae60fd-35d4-436f-825c-c63fedab94a4\"  # Von https://cds.climate.copernicus.eu/profile\n",
    "    api_url = \"https://cds.climate.copernicus.eu/api\"\n",
    "    \n",
    "    # Initialisieren Sie den API-Client\n",
    "    client = cdsapi.Client(url=api_url, key=api_key)\n",
    "    return client"
   ]
  },
  {
   "cell_type": "code",
   "execution_count": 7,
   "id": "369c09bc-b4ad-487d-a3d2-62c12523fcd8",
   "metadata": {},
   "outputs": [],
   "source": [
    "# Definition des Datensatzes und der Anforderungsparameter\n",
    "dataset = \"reanalysis-era5-land\"\n",
    "request = {\n",
    "    \"variable\": [\"2m_temperature\"],\n",
    "    \"year\": \"2024\",\n",
    "    \"month\": \"10\",\n",
    "    \"day\": [\"01\"],\n",
    "    \"time\": [\n",
    "        \"00:00\", \"01:00\", \"02:00\",\n",
    "        \"03:00\", \"04:00\", \"05:00\",\n",
    "        \"06:00\", \"07:00\", \"08:00\",\n",
    "        \"09:00\", \"10:00\", \"11:00\",\n",
    "        \"12:00\", \"13:00\", \"14:00\",\n",
    "        \"15:00\", \"16:00\", \"17:00\",\n",
    "        \"18:00\", \"19:00\", \"20:00\",\n",
    "        \"21:00\", \"22:00\", \"23:00\"\n",
    "    ],\n",
    "    \"data_format\": \"netcdf\",\n",
    "    \"download_format\": \"zip\",\n",
    "    \"area\": [48.7, 7, 47.1, 11]\n",
    "}"
   ]
  },
  {
   "cell_type": "code",
   "execution_count": 9,
   "id": "d8a98564",
   "metadata": {},
   "outputs": [
    {
     "name": "stderr",
     "output_type": "stream",
     "text": [
      "2025-02-24 16:16:02,715 INFO [2024-09-26T00:00:00] Watch our [Forum](https://forum.ecmwf.int/) for Announcements, news and other discussed topics.\n",
      "2025-02-24 16:16:02,716 WARNING [2024-06-16T00:00:00] CDS API syntax is changed and some keys or parameter names may have also changed. To avoid requests failing, please use the \"Show API request code\" tool on the dataset Download Form to check you are using the correct syntax for your API request.\n",
      "2025-02-24 16:16:02,879 INFO Request ID is 64fa82fe-b01e-4020-9080-3364bf07be29\n",
      "2025-02-24 16:16:02,942 INFO status has been updated to accepted\n",
      "2025-02-24 16:16:11,373 INFO status has been updated to running\n",
      "2025-02-24 16:16:16,494 INFO status has been updated to successful\n"
     ]
    },
    {
     "data": {
      "application/vnd.jupyter.widget-view+json": {
       "model_id": "b43a4f9bbc07448488cf8bf962ff1640",
       "version_major": 2,
       "version_minor": 0
      },
      "text/plain": [
       "f60553466a402cb82e794a7e80a539ec.zip:   0%|          | 0.00/53.3k [00:00<?, ?B/s]"
      ]
     },
     "metadata": {},
     "output_type": "display_data"
    },
    {
     "name": "stdout",
     "output_type": "stream",
     "text": [
      "Daten heruntergeladen nach ./CDSdata/reanalysis-era5-land.zip\n"
     ]
    }
   ],
   "source": [
    "if __name__ == \"__main__\":\n",
    "    client = main()\n",
    "\n",
    "    # Definieren Sie den Dateipfad für den Download\n",
    "    download_filepath = os.path.join(download_folder, f\"{dataset}.zip\")\n",
    "\n",
    "    # Laden Sie den Datensatz herunter\n",
    "    client.retrieve(dataset, request, download_filepath)\n",
    "    print(f\"Daten heruntergeladen nach {download_filepath}\")"
   ]
  },
  {
   "cell_type": "code",
   "execution_count": 10,
   "id": "8a1b2d1b-005d-4415-8ee8-9523eae18724",
   "metadata": {},
   "outputs": [],
   "source": [
    "# Wenn die Datenanforderung erfolgreich ist, sollte innerhalb weniger Sekunden eine ZIP-Datei in Ihrem definierten Ausgabeordner erscheinen.\n",
    "# Die letzte Zeile der Notebook-Ausgabe sollte lauten: \"INFO status has been updated to successful\".\n",
    "# Falls Sie Fehlermeldungen erhalten, sollten Sie überprüfen, ob die URL und der Schlüssel korrekt sind und ob Ihre cdsapirc-Datei richtig gespeichert wurde."
   ]
  }
 ],
 "metadata": {
  "kernelspec": {
   "display_name": "cds_env",
   "language": "python",
   "name": "python3"
  },
  "language_info": {
   "codemirror_mode": {
    "name": "ipython",
    "version": 3
   },
   "file_extension": ".py",
   "mimetype": "text/x-python",
   "name": "python",
   "nbconvert_exporter": "python",
   "pygments_lexer": "ipython3",
   "version": "3.10.16"
  }
 },
 "nbformat": 4,
 "nbformat_minor": 5
}
