{
 "cells": [
  {
   "cell_type": "markdown",
   "id": "45a15a8b",
   "metadata": {},
   "source": [
    "# NetCDF Einführung: Teil 1"
   ]
  },
  {
   "cell_type": "markdown",
   "id": "f4eaf2ff",
   "metadata": {},
   "source": [
    "## 1. Entpacken der NetCDF-ZIP-Datei"
   ]
  },
  {
   "cell_type": "code",
   "execution_count": 1,
   "id": "b53d109f-8197-49b0-803a-77fc9975f735",
   "metadata": {},
   "outputs": [
    {
     "name": "stdout",
     "output_type": "stream",
     "text": [
      "ZIP-Datei erfolgreich nach 'Era5Data' extrahiert.\n"
     ]
    }
   ],
   "source": [
    "import zipfile\n",
    "import os\n",
    "\n",
    "# Pfad zur ZIP-Datei (im selben Verzeichnis oder als absoluter Pfad)\n",
    "# Wenn Sie die Daten mit dem ersten Notebook heruntergeladen haben, sollte der untenstehende Pfad funktionieren\n",
    "zip_file = './CDSdata/reanalysis-era5-land.zip'  # Passen Sie den Pfad bei Bedarf an\n",
    "\n",
    "# Zielverzeichnis für die Extraktion\n",
    "target_directory = 'Era5Data'\n",
    "os.makedirs(target_directory, exist_ok=True)  # Erstellt das Verzeichnis, falls es nicht existiert\n",
    "\n",
    "# Öffnen und Extrahieren der ZIP-Datei\n",
    "with zipfile.ZipFile(zip_file, 'r') as zip_ref:\n",
    "    zip_ref.extractall(target_directory)\n",
    "    print(f\"ZIP-Datei erfolgreich nach '{target_directory}' extrahiert.\")"
   ]
  },
  {
   "cell_type": "markdown",
   "id": "2683b452",
   "metadata": {},
   "source": [
    "## 2. Untersuchung einer NetCDF-Datei"
   ]
  },
  {
   "cell_type": "code",
   "execution_count": 2,
   "id": "38e13150-d119-4baa-b0b3-34a4f5cdb3e4",
   "metadata": {},
   "outputs": [
    {
     "name": "stdout",
     "output_type": "stream",
     "text": [
      "<class 'netCDF4.Dataset'>\n",
      "root group (NETCDF4 data model, file format HDF5):\n",
      "    GRIB_centre: ecmf\n",
      "    GRIB_centreDescription: European Centre for Medium-Range Weather Forecasts\n",
      "    GRIB_subCentre: 0\n",
      "    Conventions: CF-1.7\n",
      "    institution: European Centre for Medium-Range Weather Forecasts\n",
      "    history: 2025-02-24T12:21 GRIB to CDM+CF via cfgrib-0.9.15.0/ecCodes-2.39.0 with {\"source\": \"data.grib\", \"filter_by_keys\": {}, \"encode_cf\": [\"parameter\", \"time\", \"geography\", \"vertical\"]}\n",
      "    dimensions(sizes): valid_time(24), latitude(17), longitude(41)\n",
      "    variables(dimensions): int64 number(), int64 valid_time(valid_time), float64 latitude(latitude), float64 longitude(longitude), <class 'str'> expver(valid_time), float32 t2m(valid_time, latitude, longitude)\n",
      "    groups: \n"
     ]
    }
   ],
   "source": [
    "import netCDF4 as nc\n",
    "\n",
    "# Öffnen der extrahierten Datei\n",
    "dataset = nc.Dataset('./ERA5Data/data_0.nc', 'r')\n",
    "\n",
    "# Metadaten anzeigen\n",
    "print(dataset)"
   ]
  },
  {
   "cell_type": "code",
   "execution_count": 3,
   "id": "434ee251-28d8-4c9e-9ec6-c1d8fbbb89fd",
   "metadata": {},
   "outputs": [
    {
     "name": "stdout",
     "output_type": "stream",
     "text": [
      "dict_keys(['number', 'valid_time', 'latitude', 'longitude', 'expver', 't2m'])\n",
      "[[[286.69238 286.45996 286.41113 ... 285.02637 284.8994  284.8213 ]\n",
      "  [286.22363 285.8662  285.7705  ... 285.38965 285.20996 285.13965]\n",
      "  [285.95215 285.333   285.13574 ... 285.5752  285.52832 285.4131 ]\n",
      "  ...\n",
      "  [284.45996 284.3545  284.6045  ... 276.708   276.6748  276.80176]\n",
      "  [283.34082 283.7295  284.59082 ... 275.37598 274.86426 274.333  ]\n",
      "  [284.18652 284.33887 285.14746 ... 273.56934 272.6416  270.78027]]\n",
      "\n",
      " [[286.45654 286.13428 286.062   ... 284.9663  284.81006 284.73975]\n",
      "  [286.02686 285.57764 285.46826 ... 285.33936 285.13428 285.0542 ]\n",
      "  [285.7827  285.08936 284.8706  ... 285.4956  285.44873 285.31006]\n",
      "  ...\n",
      "  [284.55615 284.50342 284.72412 ... 276.1089  276.00732 276.19873]\n",
      "  [283.6245  283.96045 284.6792  ... 274.71826 274.2378  273.83545]\n",
      "  [284.19873 284.38428 285.05225 ... 272.97217 272.11475 270.38232]]\n",
      "\n",
      " [[286.14697 285.7837  285.6997  ... 284.92432 284.75244 284.69775]\n",
      "  [285.80127 285.313   285.1997  ... 285.30322 285.0708  284.97705]\n",
      "  [285.59424 284.8911  284.67822 ... 285.45947 285.38916 285.229  ]\n",
      "  ...\n",
      "  [284.58252 284.5376  284.76416 ... 276.06104 275.99072 276.2329 ]\n",
      "  [283.6919  284.04736 284.7954  ... 274.8286  274.4048  274.0923 ]\n",
      "  [284.33643 284.68018 285.33838 ... 273.42822 272.51025 270.83838]]\n",
      "\n",
      " ...\n",
      "\n",
      " [[285.46167 285.13745 285.03784 ... 285.52026 285.46558 285.53784]\n",
      "  [285.0515  284.50464 284.40308 ... 285.71753 285.6394  285.6394 ]\n",
      "  [284.68628 284.00854 283.90503 ... 285.6902  285.74292 285.7019 ]\n",
      "  ...\n",
      "  [282.98706 282.78784 282.83472 ... 279.3562  279.46167 279.19604]\n",
      "  [282.14526 282.33472 282.87573 ... 278.09644 277.72144 276.9558 ]\n",
      "  [282.75854 283.11206 283.67847 ... 276.53784 275.72144 274.50854]]\n",
      "\n",
      " [[285.2871  284.9961  284.92383 ... 285.4004  285.32617 285.36328]\n",
      "  [284.92383 284.42188 284.3125  ... 285.58008 285.50586 285.48633]\n",
      "  [284.6289  284.0078  283.8086  ... 285.56055 285.60742 285.54688]\n",
      "  ...\n",
      "  [282.84766 282.65234 282.6953  ... 279.17188 279.28125 279.04102]\n",
      "  [282.05273 282.24414 282.7793  ... 278.      277.63086 276.88672]\n",
      "  [282.6953  283.0332  283.61914 ... 276.5254  275.68945 274.4629 ]]\n",
      "\n",
      " [[285.02466 284.78442 284.7649  ... 285.33325 285.24536 285.2766 ]\n",
      "  [284.67114 284.24146 284.19458 ... 285.4856  285.4016  285.36646]\n",
      "  [284.44653 283.77856 283.65942 ... 285.4485  285.48364 285.39966]\n",
      "  ...\n",
      "  [282.8059  282.63403 282.71802 ... 278.85278 278.97778 278.75513]\n",
      "  [282.08325 282.29224 282.84692 ... 277.78833 277.427   276.69067]\n",
      "  [282.80396 283.1516  283.73755 ... 276.4348  275.62622 274.42114]]]\n"
     ]
    }
   ],
   "source": [
    "# Variablen auflisten\n",
    "print(dataset.variables.keys())\n",
    "\n",
    "# Auf eine Variable zugreifen\n",
    "temperature = dataset.variables['t2m'][:]\n",
    "print(temperature)"
   ]
  }
 ],
 "metadata": {
  "kernelspec": {
   "display_name": "cds_env",
   "language": "python",
   "name": "python3"
  },
  "language_info": {
   "codemirror_mode": {
    "name": "ipython",
    "version": 3
   },
   "file_extension": ".py",
   "mimetype": "text/x-python",
   "name": "python",
   "nbconvert_exporter": "python",
   "pygments_lexer": "ipython3",
   "version": "3.10.16"
  }
 },
 "nbformat": 4,
 "nbformat_minor": 5
}
