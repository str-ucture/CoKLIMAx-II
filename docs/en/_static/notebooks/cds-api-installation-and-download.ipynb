{
 "cells": [
  {
   "cell_type": "code",
   "execution_count": null,
   "id": "525a944d-5619-4350-ba3c-cddc4922dca5",
   "metadata": {},
   "outputs": [],
   "source": [
    "# In this notebook you test the functionality of the CDS API\n",
    "# First define your output folder\n",
    "# the path should be chosen so that you can quickly find your downloaded files.\n",
    "# As an example, we have created a folder called 'CDSdata' in the current folder."
   ]
  },
  {
   "cell_type": "code",
   "execution_count": null,
   "id": "a2115b56-c888-4feb-a2ad-57488ec08a46",
   "metadata": {},
   "outputs": [],
   "source": [
    "import os\n",
    "\n",
    "# Example: \"./CDSdata/\" or \"./downloads/\"\n",
    "download_folder = r\"./CDSdata/\"  # Copy your file path between the quotation marks\n",
    "\n",
    "# You can also have the \"CDSdata\" folder created directly in the notebook if you haven't created it yet.\n",
    "os.makedirs(download_folder, exist_ok=True)\n",
    "# If you don't want that, just comment out the line above it (#)."
   ]
  },
  {
   "cell_type": "code",
   "execution_count": 3,
   "id": "e7476e11-8ad7-4b28-ab4a-32d809aecdc7",
   "metadata": {},
   "outputs": [],
   "source": [
    "import cdsapi\n",
    "# Now you can use your API key.\n",
    "\n",
    "def main():\n",
    "# Ersetzen Sie den Text mit Ihrem persönlichen API key.\n",
    "    api_key = \"fdae60fd-35d4-436f-825c-c63fedab94a4\"  # From https://cds.climate.copernicus.eu/profile\n",
    "    api_url = \"https://cds.climate.copernicus.eu/api\"\n",
    "    \n",
    "    # Initialisieren Sie den API-Client\n",
    "    client = cdsapi.Client(url=api_url, key=api_key)\n",
    "    return client"
   ]
  },
  {
   "cell_type": "code",
   "execution_count": 4,
   "id": "369c09bc-b4ad-487d-a3d2-62c12523fcd8",
   "metadata": {},
   "outputs": [],
   "source": [
    "# Definition of the dataset and the request parameters\n",
    "dataset = \"reanalysis-era5-land\"\n",
    "request = {\n",
    "    \"variable\": [\"2m_temperature\"],\n",
    "    \"year\": \"2024\",\n",
    "    \"month\": \"10\",\n",
    "    \"day\": [\"01\"],\n",
    "    \"time\": [\n",
    "        \"00:00\", \"01:00\", \"02:00\",\n",
    "        \"03:00\", \"04:00\", \"05:00\",\n",
    "        \"06:00\", \"07:00\", \"08:00\",\n",
    "        \"09:00\", \"10:00\", \"11:00\",\n",
    "        \"12:00\", \"13:00\", \"14:00\",\n",
    "        \"15:00\", \"16:00\", \"17:00\",\n",
    "        \"18:00\", \"19:00\", \"20:00\",\n",
    "        \"21:00\", \"22:00\", \"23:00\"\n",
    "    ],\n",
    "    \"data_format\": \"netcdf\",\n",
    "    \"download_format\": \"zip\",\n",
    "    \"area\": [48.7, 7, 47.1, 11]\n",
    "}"
   ]
  },
  {
   "cell_type": "code",
   "execution_count": 5,
   "id": "d8a98564",
   "metadata": {},
   "outputs": [
    {
     "name": "stderr",
     "output_type": "stream",
     "text": [
      "2025-02-14 14:57:01,156 INFO [2024-09-26T00:00:00] Watch our [Forum](https://forum.ecmwf.int/) for Announcements, news and other discussed topics.\n",
      "2025-02-14 14:57:01,157 WARNING [2024-06-16T00:00:00] CDS API syntax is changed and some keys or parameter names may have also changed. To avoid requests failing, please use the \"Show API request code\" tool on the dataset Download Form to check you are using the correct syntax for your API request.\n",
      "2025-02-14 14:57:01,306 INFO Request ID is 2fffbc1b-8872-437d-9874-e3bb5001c591\n",
      "2025-02-14 14:57:01,374 INFO status has been updated to accepted\n",
      "2025-02-14 14:57:09,796 INFO status has been updated to running\n",
      "2025-02-14 14:57:14,937 INFO status has been updated to successful\n"
     ]
    },
    {
     "data": {
      "application/vnd.jupyter.widget-view+json": {
       "model_id": "e1e6649896cd4190874b22f85d65b26a",
       "version_major": 2,
       "version_minor": 0
      },
      "text/plain": [
       "4bc7a98519265d0c149107e199eb10b0.zip:   0%|          | 0.00/53.3k [00:00<?, ?B/s]"
      ]
     },
     "metadata": {},
     "output_type": "display_data"
    }
   ],
   "source": [
    "if __name__ == \"__main__\":\n",
    "    client = main()\n",
    "\n",
    "    # Define download file path\n",
    "    download_filepath = os.path.join(download_folder, f\"{dataset}.zip\")\n",
    "\n",
    "    # Download the dataset\n",
    "    client.retrieve(dataset, request, download_filepath)"
   ]
  },
  {
   "cell_type": "code",
   "execution_count": 6,
   "id": "8a1b2d1b-005d-4415-8ee8-9523eae18724",
   "metadata": {},
   "outputs": [],
   "source": [
    "# If the data request is successful, a zip file should appear in your defined output folder within a few seconds\n",
    "# The last line of the notebook output should read \"INFO status has been updated to successful\"\n",
    "# If you receive error messages, you should check whether the URL and key are correct and whether your cdsapirc file is stored correctly."
   ]
  }
 ],
 "metadata": {
  "kernelspec": {
   "display_name": "myenv",
   "language": "python",
   "name": "python3"
  },
  "language_info": {
   "codemirror_mode": {
    "name": "ipython",
    "version": 3
   },
   "file_extension": ".py",
   "mimetype": "text/x-python",
   "name": "python",
   "nbconvert_exporter": "python",
   "pygments_lexer": "ipython3",
   "version": "3.10.16"
  }
 },
 "nbformat": 4,
 "nbformat_minor": 5
}
