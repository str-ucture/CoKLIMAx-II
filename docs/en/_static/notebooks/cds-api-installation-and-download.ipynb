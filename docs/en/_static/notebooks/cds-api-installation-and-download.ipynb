{
 "cells": [
  {
   "cell_type": "markdown",
   "id": "d32e851b",
   "metadata": {},
   "source": [
    "# CDS API Install and Download"
   ]
  },
  {
   "cell_type": "code",
   "execution_count": null,
   "id": "525a944d-5619-4350-ba3c-cddc4922dca5",
   "metadata": {},
   "outputs": [],
   "source": [
    "# In this notebook you will test the functionality of the CDS API.\n",
    "# First define your output folder.\n",
    "# The path should be chosen so that you can quickly find your downloaded files.\n",
    "# As an example, we have created a folder called 'CDSdata' in the current folder."
   ]
  },
  {
   "cell_type": "code",
   "execution_count": null,
   "id": "a2115b56-c888-4feb-a2ad-57488ec08a46",
   "metadata": {},
   "outputs": [],
   "source": [
    "import os\n",
    "\n",
    "# Example: \"./CDSdata/\"\n",
    "download_folder = r\"./CDSdata/\"  # To change the folder, replace the folder path inside the quotation marks\n",
    "\n",
    "# You can also have the \"CDSdata\" folder created directly in the notebook if you haven't created it yet.\n",
    "os.makedirs(download_folder, exist_ok=True)\n",
    "# If you don't want that, just comment out the line above it (#)."
   ]
  },
  {
   "cell_type": "code",
   "execution_count": null,
   "id": "e7476e11-8ad7-4b28-ab4a-32d809aecdc7",
   "metadata": {},
   "outputs": [],
   "source": [
    "import cdsapi\n",
    "# Replace the text with your personal API key.\n",
    "\n",
    "def main():\n",
    "# Ersetzen Sie den Text mit Ihrem persönlichen API key.\n",
    "    api_key = \"fdae60fd-35d4-436f-825c-c63fedab94a4\" # https://cds.climate.copernicus.eu/profile\n",
    "    api_url = \"https://cds.climate.copernicus.eu/api\"\n",
    "    \n",
    "    # Initialize the API client\n",
    "    client = cdsapi.Client(url=api_url, key=api_key)\n",
    "    return client"
   ]
  },
  {
   "cell_type": "code",
   "execution_count": null,
   "id": "369c09bc-b4ad-487d-a3d2-62c12523fcd8",
   "metadata": {},
   "outputs": [],
   "source": [
    "# Define dataset and the request parameters\n",
    "dataset = \"reanalysis-era5-land\"\n",
    "request = {\n",
    "    \"variable\": [\"2m_temperature\"],\n",
    "    \"year\": \"2024\",\n",
    "    \"month\": \"10\",\n",
    "    \"day\": [\"01\"],\n",
    "    \"time\": [\n",
    "        \"00:00\", \"01:00\", \"02:00\",\n",
    "        \"03:00\", \"04:00\", \"05:00\",\n",
    "        \"06:00\", \"07:00\", \"08:00\",\n",
    "        \"09:00\", \"10:00\", \"11:00\",\n",
    "        \"12:00\", \"13:00\", \"14:00\",\n",
    "        \"15:00\", \"16:00\", \"17:00\",\n",
    "        \"18:00\", \"19:00\", \"20:00\",\n",
    "        \"21:00\", \"22:00\", \"23:00\"\n",
    "    ],\n",
    "    \"data_format\": \"netcdf\",\n",
    "    \"download_format\": \"zip\",\n",
    "    \"area\": [48.7, 7, 47.1, 11]\n",
    "}"
   ]
  },
  {
   "cell_type": "code",
   "execution_count": null,
   "id": "d8a98564",
   "metadata": {},
   "outputs": [
    {
     "name": "stderr",
     "output_type": "stream",
     "text": [
      "2025-02-24 13:24:21,907 INFO [2024-09-26T00:00:00] Watch our [Forum](https://forum.ecmwf.int/) for Announcements, news and other discussed topics.\n",
      "2025-02-24 13:24:21,908 WARNING [2024-06-16T00:00:00] CDS API syntax is changed and some keys or parameter names may have also changed. To avoid requests failing, please use the \"Show API request code\" tool on the dataset Download Form to check you are using the correct syntax for your API request.\n",
      "2025-02-24 13:24:22,076 INFO Request ID is 6e1ca33f-c6f4-419c-b173-77ba29090137\n",
      "2025-02-24 13:24:22,150 INFO status has been updated to accepted\n",
      "2025-02-24 13:24:30,665 INFO status has been updated to successful\n"
     ]
    },
    {
     "data": {
      "application/vnd.jupyter.widget-view+json": {
       "model_id": "1ca454e0e314492a89909a31dc7b3c2e",
       "version_major": 2,
       "version_minor": 0
      },
      "text/plain": [
       "f60553466a402cb82e794a7e80a539ec.zip:   0%|          | 0.00/53.3k [00:00<?, ?B/s]"
      ]
     },
     "metadata": {},
     "output_type": "display_data"
    },
    {
     "name": "stdout",
     "output_type": "stream",
     "text": [
      "Downloaded data to ./CDSdata/reanalysis-era5-land.zip\n"
     ]
    }
   ],
   "source": [
    "if __name__ == \"__main__\":\n",
    "    client = main()\n",
    "\n",
    "    # Define download file path\n",
    "    download_filepath = os.path.join(download_folder, f\"{dataset}.zip\")\n",
    "\n",
    "    # Download the dataset\n",
    "    client.retrieve(dataset, request, download_filepath)\n",
    "    print(f\"Data downloaded to {download_filepath}\")"
   ]
  },
  {
   "cell_type": "code",
   "execution_count": 6,
   "id": "8a1b2d1b-005d-4415-8ee8-9523eae18724",
   "metadata": {},
   "outputs": [],
   "source": [
    "# If the data request is successful, a zip file should appear in your defined output folder within a few seconds\n",
    "# The last line of the notebook output should read \"INFO status has been updated to successful\"\n",
    "# If you receive error messages, you should check whether the URL and key are correct and whether your cdsapirc file is stored correctly."
   ]
  }
 ],
 "metadata": {
  "kernelspec": {
   "display_name": "cds_env",
   "language": "python",
   "name": "python3"
  },
  "language_info": {
   "codemirror_mode": {
    "name": "ipython",
    "version": 3
   },
   "file_extension": ".py",
   "mimetype": "text/x-python",
   "name": "python",
   "nbconvert_exporter": "python",
   "pygments_lexer": "ipython3",
   "version": "3.10.16"
  }
 },
 "nbformat": 4,
 "nbformat_minor": 5
}
