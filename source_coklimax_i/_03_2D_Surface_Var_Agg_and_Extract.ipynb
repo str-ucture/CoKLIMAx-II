{
 "cells": [
  {
   "cell_type": "markdown",
   "id": "611ee3ec",
   "metadata": {},
   "source": [
    "# 3D Variable Extraction and Aggregation\n",
    "This notebook provides a robust tool for extracting specific 3D variables (such as wind speed and direction) from PALM (Potsdam Atmospheric Large-Eddy Simulation Model) NetCDF output files. It offers functionality to perform temporal aggregation (e.g., calculating hourly averages) on these variables and then saves the processed, aggregated data into new NetCDF files. This process is essential for reducing data size and preparing variables for further analysis and visualization."
   ]
  },
  {
   "cell_type": "markdown",
   "id": "5b00ae14",
   "metadata": {},
   "source": [
    "## 1. Import Dependencies\n",
    "This section imports all necessary Python libraries for numerical operations, NetCDF file handling, interactive widget creation for user input, and basic operating system interactions."
   ]
  },
  {
   "cell_type": "code",
   "execution_count": 1,
   "id": "459c762e",
   "metadata": {},
   "outputs": [],
   "source": [
    "import os\n",
    "\n",
    "import numpy as np\n",
    "import netCDF4 as nc\n",
    "from netCDF4 import Dataset\n",
    "\n",
    "from IPython.display import display\n",
    "import ipywidgets as widgets\n",
    "\n",
    "from utils import palm_variables"
   ]
  },
  {
   "cell_type": "markdown",
   "id": "0f32efce",
   "metadata": {},
   "source": [
    "## 2. Load Simulation Data\n",
    "This section defines the file paths for the 3D simulation output NetCDF files (for baseline and scenario 1) and the static driver file. It then loads these files into netCDF4 Dataset objects, making their contents accessible for processing."
   ]
  },
  {
   "cell_type": "code",
   "execution_count": 2,
   "id": "9abe3a07",
   "metadata": {},
   "outputs": [],
   "source": [
    "# Absolute URLs (paths) of 3D simulation output files\n",
    "file_xy_1 = r\"./Data/3d_surface_output/konstanz_4096x4096_v9_Baseline_av_3d_N03.000-wdir-wspeed.nc\"\n",
    "file_xy_2 = r\"./Data/3d_surface_output/konstanz_4096x4096_v9_Scenario_1_av_3d_N03.000-wdir-wspeed.nc\"\n",
    "file_static = r\"./Data/_simulation_outputs_3/konstanz_4096x4096_v9_Scenario_1-48hr/INPUT/konstanz_4096x4096_v9_Scenario_1_static_N03\"\n",
    "\n",
    "# Read NetCDF files into Dataset objects in read mode ('r')\n",
    "dataset_1 = nc.Dataset(file_xy_1, mode='r')\n",
    "dataset_2 = nc.Dataset(file_xy_2, mode='r')\n",
    "dataset_3 = nc.Dataset(file_static, mode='r')\n",
    "\n",
    "# Store datasets in a list for easier iteration\n",
    "file_xy_list = [file_xy_1, file_xy_2]\n",
    "dataset_list = [dataset_1, dataset_2]"
   ]
  },
  {
   "cell_type": "markdown",
   "id": "8b9d55f6",
   "metadata": {},
   "source": [
    "## 3. Variable Selection\n",
    "This section allows the user to interactively select a 3D variable from the loaded NetCDF datasets. A dropdown widget is provided for selection, and the chosen variable's description and unit (retrieved from the palm_variables module) are displayed for clear identification."
   ]
  },
  {
   "cell_type": "code",
   "execution_count": 3,
   "id": "183fab0c",
   "metadata": {},
   "outputs": [
    {
     "data": {
      "application/vnd.jupyter.widget-view+json": {
       "model_id": "f73ab5e00e7846bea80cca9229a08512",
       "version_major": 2,
       "version_minor": 0
      },
      "text/plain": [
       "Dropdown(description='Select test variable:', index=1, options=('wdir', 'wspeed'), value='wspeed')"
      ]
     },
     "metadata": {},
     "output_type": "display_data"
    }
   ],
   "source": [
    "# Extract variable names from the first dataset where the number of dimensions is greater than 2.\n",
    "# In PALM 3D output files, these typically represent variables with (time, z, y, x) dimensions.\n",
    "var_names_palm = [var for var in dataset_1.variables if dataset_1.variables[var].ndim > 2]\n",
    "\n",
    "# Initialize `test_variable` with the second variable in the list (`var_names_palm[1]`),\n",
    "# as common 3D variables like 'wspeed' are often at this index in specific output files.\n",
    "test_variable = var_names_palm[1]\n",
    "\n",
    "# Create a dropdown widget to allow the user to select the desired 3D variable.\n",
    "drop_down = widgets.Dropdown(\n",
    "    options=var_names_palm,         # Populate the dropdown with the extracted 3D variable names.\n",
    "    value=var_names_palm[1],        # Set the initial selected value in the dropdown.\n",
    "    description='Select test variable:' # Label displayed next to the dropdown.\n",
    ")\n",
    "\n",
    "# Define a handler function that will be called whenever the dropdown's value changes.\n",
    "def dropdown_handler(change):\n",
    "    global test_variable  # Declare `test_variable` as global to modify it.\n",
    "    test_variable = change.new     # Update the global `test_variable` with the newly selected value.\n",
    "    print(f\"Selected variable: {test_variable}\") # Print the newly selected variable to the console.\n",
    "\n",
    "# Attach the `dropdown_handler` function to observe changes in the 'value' property of the dropdown.\n",
    "drop_down.observe(dropdown_handler, names='value')\n",
    "\n",
    "# Display the dropdown widget in the notebook output.\n",
    "display(drop_down)"
   ]
  },
  {
   "cell_type": "code",
   "execution_count": 4,
   "id": "d64a6b01",
   "metadata": {},
   "outputs": [
    {
     "name": "stdout",
     "output_type": "stream",
     "text": [
      "Magnitude of the horizontal wind vector, m/s\n"
     ]
    }
   ],
   "source": [
    "# Check if a `test_variable` has been selected.\n",
    "if test_variable:\n",
    "    # Use the `test_variable` directly to get its info, as 3D variables typically don't have '*' in their names\n",
    "    # for metadata lookup (unlike some 2D variables like 'ta_2m*_xy').\n",
    "    var_initial = test_variable\n",
    "    \n",
    "    # Retrieve the dictionary of information for the `var_initial` from the `palm_variables` module.\n",
    "    # `.get()` is used to prevent errors if the key is not found, returning an empty dict instead.\n",
    "    variable_info = palm_variables.variables_dict.get(var_initial, {})\n",
    "    \n",
    "    # Extract the 'unit' from `variable_info`, defaulting to 'No unit available' if the key is missing.\n",
    "    unit = variable_info.get('unit', 'No unit available')\n",
    "    # Extract the 'description' from `variable_info`, defaulting to 'No description available' if the key is missing.\n",
    "    description = variable_info.get('description', 'No description available')\n",
    "    \n",
    "    # Print the capitalized description and its unit for clarity.\n",
    "    print(f\"{description.capitalize()}, {unit}\")"
   ]
  },
  {
   "cell_type": "markdown",
   "id": "f93513ac",
   "metadata": {},
   "source": [
    "## 4. Temporal Aggregation Function\n",
    "This section defines a crucial helper function, get_aggregate_time_list. This function is responsible for generating lists of time step indices that correspond to specific aggregation windows. This is essential for calculating moving averages over the simulation's time series data."
   ]
  },
  {
   "cell_type": "code",
   "execution_count": 5,
   "id": "72d77aaa",
   "metadata": {},
   "outputs": [],
   "source": [
    "def get_aggregate_time_list(total_time_steps, aggregate_time_steps):\n",
    "    \"\"\"\n",
    "    Generates a list of time step ranges for temporal aggregation (e.g., for moving averages).\n",
    "    Each inner list represents a window of time steps.\n",
    "\n",
    "    Args:\n",
    "        total_time_steps (int): The total number of time steps available in the simulation output.\n",
    "        aggregate_time_steps (int): The desired size of the aggregation window (number of time steps).\n",
    "\n",
    "    Returns:\n",
    "        list: A list of lists, where each inner list contains integer time indices\n",
    "              that fall within a specific aggregation window.\n",
    "    \"\"\"\n",
    "    time_lists = []\n",
    "    \n",
    "    for i in range(total_time_steps):\n",
    "        # Case 1: No aggregation or single time step (window size is 1)\n",
    "        if aggregate_time_steps <= 1:\n",
    "            time_list = [i]\n",
    "        # Case 2: Aggregation with a specified window size\n",
    "        else:\n",
    "            # Calculate the half-window size. This is used to define the window around the current time step `i`.\n",
    "            half_window = aggregate_time_steps // 2\n",
    "            \n",
    "            # Determine the start and end indices for the aggregation window.\n",
    "            # The calculation slightly differs for even vs. odd `aggregate_time_steps` to ensure correct centering.\n",
    "            if aggregate_time_steps % 2 == 0:\n",
    "                # For even window sizes, the window is centered around `i` by extending `half_window` backward\n",
    "                # and `half_window - 1` forward, then including `i`.\n",
    "                # Example: If aggregate_time_steps=6, half_window=3. For `i=10`, range is [10-3, 10+3] = [7, 13]\n",
    "                # The window is [7, 8, 9, 10, 11, 12] (6 steps).\n",
    "                time_list = [j for j in range(i - half_window, i + half_window)]\n",
    "            else:\n",
    "                # For odd window sizes, the window is perfectly centered around `i`.\n",
    "                # Example: If aggregate_time_steps=5, half_window=2. For `i=10`, range is [10-2, 10+2+1] = [8, 13]\n",
    "                # The window is [8, 9, 10, 11, 12] (5 steps).\n",
    "                time_list = [j for j in range(i - half_window, i + half_window + 1)]\n",
    "        \n",
    "        # Filter `time_list` to ensure all indices are within the valid range of the simulation (0 to `total_time_steps - 1`).\n",
    "        valid_time_list = [j for j in time_list if 0 <= j < total_time_steps]\n",
    "        time_lists.append(valid_time_list)\n",
    "    \n",
    "    return time_lists"
   ]
  },
  {
   "cell_type": "markdown",
   "id": "ad9b4ff4",
   "metadata": {},
   "source": [
    "## 5. Prepare Data for Aggregation\n",
    "This section prepares the necessary data for the aggregation process. It extracts the base filenames from the input simulation files and loads the selected 3D variable data from both dataset_1 and dataset_2. It also sets the aggregate_time_steps parameter (defaulting to 6, representing a 1-hour aggregation for 10-minute time steps) and generates the corresponding time_lists for aggregation."
   ]
  },
  {
   "cell_type": "code",
   "execution_count": 6,
   "id": "3e051d6d",
   "metadata": {},
   "outputs": [],
   "source": [
    "# Extract the base filename (without path and extension) from the first xy output file.\n",
    "# This will be used in naming the aggregated output files.\n",
    "filename_xy_1 = os.path.basename(file_xy_1).split('.')[0]\n",
    "# Extract the base filename for the second xy output file.\n",
    "# NOTE: The original code had a typo here, using file_xy_1 for both. Corrected to file_xy_2.\n",
    "filename_xy_2 = os.path.basename(file_xy_2).split('.')[0]\n",
    "\n",
    "# Load the actual variable data for the `test_variable` from `dataset_1` and `dataset_2`.\n",
    "# `test_variable` is determined by the dropdown selection in a previous step.\n",
    "variable_data_1 = dataset_1[test_variable]\n",
    "variable_data_2 = dataset_2[test_variable]\n",
    "\n",
    "# Get the full shape of the 3D variable data (time, z, y, x) from `dataset_1`.\n",
    "# The first element (`[0]`) gives the total number of time steps.\n",
    "variable_data_shape = np.shape(dataset_1[test_variable])\n",
    "total_time_steps = variable_data_shape[0]\n",
    "\n",
    "# Define the aggregation window size.\n",
    "# A value of 6 means that each aggregated data point will be an average over 6 consecutive time steps.\n",
    "# (If original time steps are 10 minutes, 6 steps = 60 minutes = 1 hour).\n",
    "aggregate_time_steps = 6\n",
    "\n",
    "# Generate the list of time step ranges for aggregation based on the `total_time_steps` and `aggregate_time_steps`.\n",
    "# This list (`time_lists`) will guide the averaging process.\n",
    "time_lists = get_aggregate_time_list(total_time_steps, aggregate_time_steps)"
   ]
  },
  {
   "cell_type": "markdown",
   "id": "da245aed",
   "metadata": {},
   "source": [
    "## 6. Perform Aggregation and Save Data\n",
    "This final section iterates through each of the loaded simulation datasets. For each dataset, it computes the temporal aggregate of the selected 3D variable using the previously defined aggregation windows (time_lists). The aggregated data (which is effectively 2D after averaging along the z-dimension) is then saved into new NetCDF files, organized in a subdirectory named after the aggregation window size."
   ]
  },
  {
   "cell_type": "code",
   "execution_count": 7,
   "id": "2cae51d7",
   "metadata": {},
   "outputs": [
    {
     "name": "stdout",
     "output_type": "stream",
     "text": [
      "Aggregated data for 'wspeed' saved to: ./output/_03_agg_6_wind\\konstanz_4096x4096_v9_Baseline_av_3d_N03_wspeed.nc\n",
      "Aggregated data for 'wspeed' saved to: ./output/_03_agg_6_wind\\konstanz_4096x4096_v9_Scenario_1_av_3d_N03_wspeed.nc\n"
     ]
    }
   ],
   "source": [
    "# Iterate through each dataset in the `dataset_list` (e.g., Baseline and Scenario 1 simulations).\n",
    "for i, current_dataset in enumerate(dataset_list):\n",
    "    # Extract the variable data for the `test_variable` from the current dataset.\n",
    "    variable_data = current_dataset[test_variable]\n",
    "    \n",
    "    # Get the total number of time steps for the current variable data.\n",
    "    current_total_time_steps = np.shape(variable_data)[0]\n",
    "    \n",
    "    # Regenerate `time_lists` to ensure it's correct for the current dataset's total time steps,\n",
    "    # in case datasets have different lengths or `aggregate_time_steps` was changed.\n",
    "    time_lists = get_aggregate_time_list(current_total_time_steps, aggregate_time_steps)\n",
    "    \n",
    "    # Initialize a list to store the aggregated 2D arrays for all time steps.\n",
    "    variable_data_agg = []\n",
    "    \n",
    "    # Loop through each generated time window (`time_list`) to compute the aggregate.\n",
    "    for j, time_window_indices in enumerate(time_lists):\n",
    "        values_in_window = []\n",
    "        \n",
    "        # For each time index within the current window, extract the 2D slice of the variable.\n",
    "        # We are specifically selecting the first z-layer (index 0) as this notebook focuses on 2D output.\n",
    "        for time_idx in time_window_indices:\n",
    "            # Assuming `variable_data` has dimensions (time, z, y, x).\n",
    "            values_in_window.append(variable_data[time_idx, 0, :, :])\n",
    "            \n",
    "        # Compute the mean of all 2D slices collected in the current window along the time axis (axis=0).\n",
    "        # This results in a single 2D array representing the aggregated value for that time window.\n",
    "        variable_data_agg.append(np.mean(values_in_window, axis=0))\n",
    "        \n",
    "    # Determine the base filename for the output NetCDF file from the original file path.\n",
    "    source_filename = os.path.basename(file_xy_list[i]).split('.')[0]\n",
    "    \n",
    "    # Construct the `output_filename` by appending the `test_variable` name (with '*' removed if present).\n",
    "    output_filename = f\"{source_filename}_{test_variable.replace('*','')}\"\n",
    "    \n",
    "    # Define the output directory based on the aggregation time steps and type of variable (e.g., 'wind').\n",
    "    output_dir = f\"./output/_03_agg_{aggregate_time_steps}\"\n",
    "    # Create the output directory if it doesn't already exist. `exist_ok=True` prevents an error if it exists.\n",
    "    os.makedirs(output_dir, exist_ok=True)\n",
    "    \n",
    "    # Save the aggregated data to a new NetCDF file.\n",
    "    # The file is opened in write mode (\"w\") and formatted as 'NETCDF4_CLASSIC'.\n",
    "    with Dataset(os.path.join(output_dir, f\"{output_filename}.nc\"), \"w\", format='NETCDF4_CLASSIC') as output_dataset:\n",
    "        # Create dimensions in the new NetCDF file.\n",
    "        # `num_time`: number of aggregated time steps.\n",
    "        # `num_z_index`: fixed to 1 as we are extracting a single z-layer.\n",
    "        # `num_y`: number of rows in the 2D array.\n",
    "        # `num_x`: number of columns in the 2D array.\n",
    "        num_time = len(variable_data_agg)\n",
    "        num_z_index = 1\n",
    "        num_y = variable_data_agg[0].shape[0] # Number of rows (y-dimension)\n",
    "        num_x = variable_data_agg[0].shape[1] # Number of columns (x-dimension)\n",
    "        \n",
    "        output_dataset.createDimension('time', num_time)\n",
    "        output_dataset.createDimension('z', num_z_index)\n",
    "        output_dataset.createDimension('y', num_y) # Create 'y' dimension\n",
    "        output_dataset.createDimension('x', num_x) # Create 'x' dimension\n",
    "        \n",
    "        # Create the variable in the new NetCDF file.\n",
    "        # Data type is `np.float32`, dimensions are (time, z, y, x), and a fill value is defined.\n",
    "        data_var = output_dataset.createVariable(f'{test_variable}', np.float32, ('time', 'z', 'y', 'x'), fill_value=-9999.0)\n",
    "        \n",
    "        # Fill the newly created variable with the aggregated 2D data.\n",
    "        # Each aggregated 2D array is assigned to its corresponding time step and the first z-layer.\n",
    "        for k, array in enumerate(variable_data_agg):\n",
    "            data_var[k, 0, :, :] = array # Assign the 2D aggregated array to the NetCDF variable\n",
    "\n",
    "    print(f\"Aggregated data for '{test_variable}' saved to: {os.path.join(output_dir, f'{output_filename}.nc')}\")"
   ]
  }
 ],
 "metadata": {
  "kernelspec": {
   "display_name": "coklimax",
   "language": "python",
   "name": "python3"
  },
  "language_info": {
   "codemirror_mode": {
    "name": "ipython",
    "version": 3
   },
   "file_extension": ".py",
   "mimetype": "text/x-python",
   "name": "python",
   "nbconvert_exporter": "python",
   "pygments_lexer": "ipython3",
   "version": "3.10.16"
  }
 },
 "nbformat": 4,
 "nbformat_minor": 5
}
