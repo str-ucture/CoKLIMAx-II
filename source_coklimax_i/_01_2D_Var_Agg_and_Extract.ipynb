{
 "cells": [
  {
   "cell_type": "markdown",
   "id": "a9b10627",
   "metadata": {},
   "source": [
    "# 2D Variable Aggregation and Extraction\n",
    "\n",
    "This notebook provides a tool to extract specific 2D variables from PALM (Potsdam Atmospheric Large-Eddy Simulation Model) NetCDF output files and optionally perform temporal aggregation. The aggregated data is then saved into new NetCDF files, facilitating further analysis and visualization without needing to process large raw simulation outputs repeatedly.\n"
   ]
  },
  {
   "cell_type": "markdown",
   "id": "6517e920",
   "metadata": {},
   "source": [
    "## 1. Import Dependencies\n",
    "\n",
    "This section imports all necessary libraries for numerical operations, NetCDF file handling, interactive widgets for user input, and operating system interactions."
   ]
  },
  {
   "cell_type": "code",
   "execution_count": 3,
   "id": "7105148b",
   "metadata": {},
   "outputs": [],
   "source": [
    "import os\n",
    "\n",
    "import numpy as np\n",
    "import netCDF4 as nc\n",
    "from netCDF4 import Dataset\n",
    "\n",
    "from IPython.display import display\n",
    "import ipywidgets as widgets\n",
    "\n",
    "from utils import palm_variables"
   ]
  },
  {
   "cell_type": "markdown",
   "id": "8150ab6b",
   "metadata": {},
   "source": [
    "## 2. Load Simulation Data\n",
    "This section defines the absolute paths to the PALM simulation output files (xy-averaged and static driver) and loads them into NetCDF dataset objects. These datasets provide access to the raw simulation variables."
   ]
  },
  {
   "cell_type": "code",
   "execution_count": null,
   "id": "c9a769fb",
   "metadata": {},
   "outputs": [],
   "source": [
    "# Absolute URLs (paths) of simulation output files and the static driver file\n",
    "file_xy_1 = r\"./Data/_simulation_outputs_3/konstanz_4096x4096_v9_Baseline-48hr/OUTPUT/konstanz_4096x4096_v9_Baseline_av_xy_N03.000.nc\"\n",
    "file_xy_2 = r\"./Data/_simulation_outputs_3/konstanz_4096x4096_v9_Scenario_1-48hr/OUTPUT/konstanz_4096x4096_v9_Scenario_1_av_xy_N03.000.nc\"\n",
    "file_static = r\"./Data/_simulation_outputs_3/konstanz_4096x4096_v9_Scenario_1-48hr/INPUT/konstanz_4096x4096_v9_Scenario_1_static_N03\"\n",
    "\n",
    "# Read NetCDF files into Dataset objects in read mode ('r')\n",
    "dataset_1 = nc.Dataset(file_xy_1, mode='r')\n",
    "dataset_2 = nc.Dataset(file_xy_2, mode='r')\n",
    "dataset_3 = nc.Dataset(file_static, mode='r')\n",
    "\n",
    "# Store datasets in a list for easier iteration\n",
    "dataset_list = [dataset_1, dataset_2]\n",
    "file_xy_list = [file_xy_1, file_xy_2]"
   ]
  },
  {
   "cell_type": "markdown",
   "id": "9080e3f5",
   "metadata": {},
   "source": [
    "## 3. Variable Selection\n",
    "This section allows the user to interactively select a 2D variable from the loaded NetCDF datasets. A dropdown widget is used for selection, and the corresponding variable's description and unit are displayed for user convenience, fetched from the palm_variables module."
   ]
  },
  {
   "cell_type": "code",
   "execution_count": 6,
   "id": "031165ef",
   "metadata": {},
   "outputs": [
    {
     "data": {
      "application/vnd.jupyter.widget-view+json": {
       "model_id": "8e07b8e3ee1941a881ee18d4effbe499",
       "version_major": 2,
       "version_minor": 0
      },
      "text/plain": [
       "Dropdown(description='Select test variable:', options=('ta_2m*_xy', 'tsurf*_xy', 'wspeed_10m*_xy', 'bio_pet*_x…"
      ]
     },
     "metadata": {},
     "output_type": "display_data"
    }
   ],
   "source": [
    "# Extract variable names from the first dataset that have more than 2 dimensions (typically 3D or 4D variables)\n",
    "# These usually represent spatial or spatio-temporal data (e.g., time, z, y, x or time, y, x)\n",
    "var_names_palm = [var for var in dataset_1.variables if dataset_1.variables[var].ndim > 2]\n",
    "\n",
    "# Initialize the test_variable with the first variable in the list\n",
    "test_variable = var_names_palm[0]\n",
    "\n",
    "# Create a dropdown widget for selecting the test variable\n",
    "drop_down = widgets.Dropdown(\n",
    "    options=var_names_palm,         # Populate dropdown with variable names\n",
    "    value=var_names_palm[0],        # Set initial selected value\n",
    "    description='Select test variable:' # Label for the dropdown\n",
    ")\n",
    "\n",
    "# Define a handler function to update the global test_variable when a new option is selected\n",
    "def dropdown_handler(change):\n",
    "    global test_variable\n",
    "    test_variable = change.new # Update the global variable with the new selection\n",
    "    print(f\"Selected variable: {test_variable}\") # Print the newly selected variable\n",
    "\n",
    "# Attach the dropdown_handler function to observe changes in the 'value' property of the dropdown\n",
    "drop_down.observe(dropdown_handler, names='value')\n",
    "\n",
    "# Display the dropdown widget to the user\n",
    "display(drop_down)"
   ]
  },
  {
   "cell_type": "markdown",
   "id": "6f9ccb5f",
   "metadata": {},
   "source": [
    "## 4. Aggregation Logic\n",
    "This section defines the core logic for temporal aggregation. The get_aggregate_time_list function creates a list of time step ranges based on a specified aggregation window. This allows for calculating moving averages over the simulation data."
   ]
  },
  {
   "cell_type": "code",
   "execution_count": 7,
   "id": "526da075",
   "metadata": {},
   "outputs": [],
   "source": [
    "def get_aggregate_time_list(total_time_steps, aggregate_time_steps):\n",
    "    \"\"\"\n",
    "    Generates a list of time step indices for temporal aggregation.\n",
    "    Each sub-list represents a window for calculating a moving average.\n",
    "\n",
    "    Args:\n",
    "        total_time_steps (int): The total number of time steps in the simulation.\n",
    "        aggregate_time_steps (int): The number of time steps to include in each aggregation window.\n",
    "\n",
    "    Returns:\n",
    "        list: A list of lists, where each inner list contains time indices\n",
    "              for a specific aggregation window.\n",
    "    \"\"\"\n",
    "    time_lists = []\n",
    "    \n",
    "    for i in range(total_time_steps):\n",
    "        # Case 1: No aggregation (single time step per window)\n",
    "        if aggregate_time_steps <= 1:\n",
    "            time_list = [i]\n",
    "        # Case 2: Aggregation with a window (moving average)\n",
    "        else:\n",
    "            # Calculate the half-window size\n",
    "            half_window = aggregate_time_steps // 2\n",
    "            # Determine the start and end indices of the window based on even/odd aggregation steps\n",
    "            if aggregate_time_steps % 2 == 0:\n",
    "                # For even `aggregate_time_steps`, the window is centered such that `i` is towards the end of the first half.\n",
    "                # Example: for aggregate_time_steps=6, half_window=3. Window for `i` is [i-3, i-2, i-1, i, i+1, i+2]\n",
    "                time_list = [j for j in range(i - half_window, i + half_window)]\n",
    "            else:\n",
    "                # For odd `aggregate_time_steps`, the window is perfectly centered around `i`.\n",
    "                # Example: for aggregate_time_steps=5, half_window=2. Window for `i` is [i-2, i-1, i, i+1, i+2]\n",
    "                time_list = [j for j in range(i - half_window, i + half_window + 1)]\n",
    "        \n",
    "        # Filter out time indices that are outside the total simulation time steps\n",
    "        valid_time_list = [j for j in time_list if 0 <= j < total_time_steps]\n",
    "        time_lists.append(valid_time_list)\n",
    "    \n",
    "    return time_lists"
   ]
  },
  {
   "cell_type": "code",
   "execution_count": 9,
   "id": "ce632a32",
   "metadata": {},
   "outputs": [],
   "source": [
    "# Extract filename (without extension) for dataset_1\n",
    "filename_xy_1 = os.path.basename(file_xy_1).split('.')[0]\n",
    "# Extract filename (without extension) for dataset_2 (corrected from dataset_1 to dataset_2)\n",
    "filename_xy_2 = os.path.basename(file_xy_2).split('.')[0]\n",
    "\n",
    "# Load the actual variable data for the selected 'test_variable' from both datasets\n",
    "variable_data_1 = dataset_1[test_variable]\n",
    "variable_data_2 = dataset_2[test_variable]\n",
    "\n",
    "# Get the shape of the variable data to determine total time steps\n",
    "variable_data_shape = np.shape(dataset_1[test_variable])\n",
    "total_time_steps = variable_data_shape[0]\n",
    "\n",
    "# Define the aggregation window size (e.g., 1 for no aggregation, 6 for 1-hour average)\n",
    "# This can be changed to perform different levels of temporal aggregation\n",
    "aggregate_time_steps = 1 # Default to no aggregation (individual time steps)\n",
    "\n",
    "# Generate the list of time step ranges for aggregation based on the defined window\n",
    "time_lists = get_aggregate_time_list(total_time_steps, aggregate_time_steps)"
   ]
  },
  {
   "cell_type": "markdown",
   "id": "8810b170",
   "metadata": {},
   "source": [
    "## 5. Save Aggregated Data\n",
    "This section iterates through the loaded datasets, aggregates the selected variable data based on the defined time windows, and saves the aggregated results into new NetCDF files. Each aggregated file will contain the averaged values for the chosen variable, reflecting the specified aggregation period."
   ]
  },
  {
   "cell_type": "code",
   "execution_count": null,
   "id": "fb7adedd",
   "metadata": {},
   "outputs": [
    {
     "name": "stdout",
     "output_type": "stream",
     "text": [
      "Aggregated data for ta_2m*_xy saved to ./output/001_agg_1/konstanz_4096x4096_v9_Baseline_av_xy_N03_ta_2m_xy.nc\n",
      "Aggregated data for ta_2m*_xy saved to ./output/001_agg_1/konstanz_4096x4096_v9_Scenario_1_av_xy_N03_ta_2m_xy.nc\n"
     ]
    }
   ],
   "source": [
    "# Iterate through each dataset in the dataset_list (e.g., Baseline and Scenario 1)\n",
    "for i, dataset_n in enumerate(dataset_list):\n",
    "    # Extract the variable data for the currently selected test_variable from the current dataset\n",
    "    variable_data = dataset_n[test_variable]\n",
    "    \n",
    "    # Get the total number of time steps for the current variable data\n",
    "    total_time_steps = np.shape(variable_data)[0]\n",
    "    \n",
    "    # Regenerate time_lists in case `total_time_steps` is different for different datasets,\n",
    "    # or if `aggregate_time_steps` has been changed interactively.\n",
    "    time_lists = get_aggregate_time_list(total_time_steps, aggregate_time_steps)\n",
    "    \n",
    "    # Initialize a list to store the aggregated data for all time steps\n",
    "    variable_data_agg = []\n",
    "    \n",
    "    # Loop through each generated time window (time_list)\n",
    "    for j, time_list in enumerate(time_lists):\n",
    "        values_temp_list = []\n",
    "        \n",
    "        # For each time window, extract the 2D variable data slices\n",
    "        for time_index in time_list:\n",
    "            # Extract data at the current time_index, assuming it's a 4D variable (time, z, y, x)\n",
    "            # and we're interested in the first z-layer (index 0)\n",
    "            values_temp = variable_data[time_index, 0, :, :]\n",
    "            values_temp_list.append(values_temp)\n",
    "            \n",
    "        # Compute the mean of the collected data slices along the time axis (axis=0)\n",
    "        variable_data_agg.append(np.mean(values_temp_list, axis=0))\n",
    "        \n",
    "    # Determine the base filename for the output NetCDF file\n",
    "    # Uses the original filename (e.g., 'konstanz_4096x4096_v9_Baseline_av_xy_N03')\n",
    "    source_filename = os.path.basename(file_xy_list[i]).split('.')[0]\n",
    "    \n",
    "    # Construct the output filename, replacing '*' in test_variable if present\n",
    "    # Appends the variable name to the source filename for clarity\n",
    "    output_filename = f\"{source_filename}_{test_variable.replace('*','')}\"\n",
    "    \n",
    "    # Create the output directory if it does not exist\n",
    "    output_dir = f\"./output/_01_agg_{aggregate_time_steps}\"\n",
    "    os.makedirs(output_dir, exist_ok=True)\n",
    "    \n",
    "    # Save the aggregated data to a new NetCDF file\n",
    "    with Dataset(os.path.join(output_dir, f\"{output_filename}.nc\"), \"w\", format='NETCDF4_CLASSIC') as dataset:\n",
    "        # Define dimensions for the new NetCDF file\n",
    "        num_time = len(variable_data_agg)\n",
    "        num_z_index = 1 # We've flattened the z-dimension by selecting index 0\n",
    "        num_rows = variable_data_agg[0].shape[0] # Y-dimension\n",
    "        num_cols = variable_data_agg[0].shape[1] # X-dimension\n",
    "        \n",
    "        dataset.createDimension('time', num_time)\n",
    "        dataset.createDimension('z', num_z_index)\n",
    "        dataset.createDimension('x', num_cols) # Corrected to match convention (x is usually columns)\n",
    "        dataset.createDimension('y', num_rows) # Corrected to match convention (y is usually rows)\n",
    "        \n",
    "        # Create the variable in the new NetCDF file\n",
    "        # The dimensions are (time, z, y, x)\n",
    "        data_var = dataset.createVariable(f'{test_variable}', np.float32, ('time', 'z', 'y', 'x'), fill_value=-9999.0)\n",
    "        \n",
    "        # Fill the newly created variable with the aggregated data\n",
    "        for k, array in enumerate(variable_data_agg):\n",
    "            data_var[k, 0, :, :] = array # Assign each aggregated 2D array to its time step and z-layer\n",
    "\n",
    "    print(f\"Aggregated data for {test_variable} saved to {output_dir}/{output_filename}.nc\")"
   ]
  }
 ],
 "metadata": {
  "kernelspec": {
   "display_name": "coklimax",
   "language": "python",
   "name": "python3"
  },
  "language_info": {
   "codemirror_mode": {
    "name": "ipython",
    "version": 3
   },
   "file_extension": ".py",
   "mimetype": "text/x-python",
   "name": "python",
   "nbconvert_exporter": "python",
   "pygments_lexer": "ipython3",
   "version": "3.10.16"
  }
 },
 "nbformat": 4,
 "nbformat_minor": 5
}
