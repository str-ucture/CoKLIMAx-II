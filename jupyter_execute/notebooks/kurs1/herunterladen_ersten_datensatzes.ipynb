{
 "cells": [
  {
   "cell_type": "markdown",
   "metadata": {},
   "source": [
    "# Download Your First Dataset\n",
    "\n",
    "ERA5-Land is a high-resolution reanalysis dataset that provides a consistent and detailed view of land variables over several decades, combining model data with atmospheric forcings from ERA5 to ensure accuracy. By correcting input variables for elevation differences and leveraging indirect observational forcings, it provides improved precision for land surface applications such as flood and drought forecasting. Despite some inherent uncertainties, ERA5-Land is a valuable resource for decision-making and environmental analysis due to its comprehensive temporal and spatial resolution.\n",
    "\n",
    "## Dataset: Climate Indicator Europe from 1940 to 2100\n",
    "\n",
    "• Data source: [Climate Indicator Europe](https://cds.climate.copernicus.eu/datasets/sis-ecde-climate-indicators?tab=download)\\\n",
    "• [Documentation](https://confluence.ecmwf.int/display/CKB/ECDE+indicators+catalogue+entry%3A+Product+User+Guide)"
   ]
  },
  {
   "cell_type": "markdown",
   "metadata": {},
   "source": [
    "## 1. Specifying the paths and working directories\n",
    "\n",
    "Specifying paths and working directories in Jupyter Notebook is essential for ensuring the notebook correctly accesses and saves files, enabling seamless data loading, script execution, and result storage. It eliminates confusion over file locations, reducing errors and making the code more portable and reproducible across different systems."
   ]
  },
  {
   "cell_type": "code",
   "execution_count": 1,
   "metadata": {},
   "outputs": [],
   "source": [
    "import os\n",
    "\n",
    "# ---- Specify directories below ----\n",
    "download_folder = r\".\\data\\era5-land-monthly\\download\"  # Folder for downloaded data\n",
    "# ---- End of user inputs ----\n",
    "\n",
    "# Create directories if they do not exist\n",
    "os.makedirs(download_folder, exist_ok=True)"
   ]
  },
  {
   "cell_type": "markdown",
   "metadata": {},
   "source": [
    "## 2. Filter and Download Dataset\n",
    "\n",
    "This section demonstrates how to download a test dataset from **ERA5-Land Monthly Averaged Data** using the **CDS API**. The dataset focuses on variables from the **\"Temperature\"** group. The process is divided into three steps:\n",
    "\n",
    "1. **Authentication**: Replace `api_key` with your Personal Access Token from the CDS website. This step ensures secure access to the dataset.\n",
    "\n",
    "2. **API Request Definition**: Specify the desired dataset and variables on the CDS download page. Include these parameters in your API request to filter and customize the data retrieval.\n",
    "\n",
    "3. **Execute API Request and Download**: Submit the API request and download the dataset based on the defined parameters, ensuring you retrieve only the relevant data.\n"
   ]
  },
  {
   "cell_type": "markdown",
   "metadata": {},
   "source": [
    "### 2.1 Authentication\n",
    "\n",
    "To access the ERA5-Land Monthly Averaged Data, authentication is required. Follow these steps:\n",
    "\n",
    "* Obtain your **Personal Access Token** from the [Copernicus Climate Data Store (CDS)](https://cds.climate.copernicus.eu/).\n",
    "   \n",
    "* Replace the placeholder `api_key` in your code with the token you generated.\n"
   ]
  },
  {
   "cell_type": "code",
   "execution_count": 2,
   "metadata": {},
   "outputs": [],
   "source": [
    "import cdsapi\n",
    "\n",
    "def main():\n",
    "    \"\"\"\n",
    "    Initialize the CDS API client with the specified API key and URL.\n",
    "    Ensure your credentials are valid and replace 'api_key' with your personal access token.\n",
    "    \"\"\"\n",
    "    # Replace with your actual API key and URL\n",
    "    api_key = \"fdae60fd-35d4-436f-825c-c63fedab94a4\"\n",
    "    api_url = \"https://cds.climate.copernicus.eu/api\"\n",
    "    \n",
    "    # Initialize the CDS API client\n",
    "    client = cdsapi.Client(url=api_url, key=api_key)\n",
    "    \n",
    "    print(\"CDS API client initialized successfully.\")\n",
    "    return client"
   ]
  },
  {
   "cell_type": "markdown",
   "metadata": {},
   "source": [
    "### 2.2 API Request Definition\n",
    "\n",
    "Follow these steps to define your API request for downloading data from **ERA-5 Land Monthly**:\n",
    "\n",
    "1. Open this link in your browser: [ERA-5 Land Monthly](https://cds.climate.copernicus.eu/datasets/reanalysis-era5-land-monthly-means?tab=download).\n",
    "\n",
    "   *Ensure that you are logged into your [CDS account](https://cds.climate.copernicus.eu/).*\n",
    "\n",
    "2. Configure the request fields as follows:\n",
    "   1. **Product type**: \"Monthly averaged reanalysis\"\n",
    "   2. **Variable**: \"2m temperature\"\n",
    "\n",
    "   <img src=\"./images/era5_land_monthly/01_product_type_and_variable.png\" width=\"650\" style=\"display: block; margin: 0 auto; border: 1px solid #aeaeae\">\n",
    "\n",
    "   3. **Year**: Click on \"<span style=\"color:blue; text-decoration:underline;\">Select all</span>\"\n",
    "   4. **Month**: Click on \"<span style=\"color:blue; text-decoration:underline;\">Select all</span>\n",
    "   5. **Time**: \"00:00\"\n",
    "\n",
    "   <img src=\"./images/era5_land_monthly/02_year_month_time.png\" width=\"650\" style=\"display: block; margin: 0 auto; border: 1px solid #aeaeae\">\n",
    "\n",
    "   6. **Geographical area**: Choose \"Sub-region extraction\" and use the following coordinates:\n",
    "\n",
    "      <div align=\"center\">\n",
    "\n",
    "      | Direction | Value |\n",
    "      | --------- | ----- |\n",
    "      | North     | 47.8  |\n",
    "      | West      | 9.0   |\n",
    "      | East      | 9.3   |\n",
    "      | South     | 47.6  |\n",
    "      \n",
    "      </div>\n",
    "\n",
    "   <img src=\"./images/era5_land_monthly/03_geographical_area.png\" width=\"650\" style=\"display: block; margin: 0 auto; border: 1px solid #aeaeae\">\n",
    "\n",
    "   7. **Data format**: \"NetCDF4 (Experimental)\"\n",
    "   8. **Download format**: \"Unarchieved (not zipped if single file)\"\n",
    "\n",
    "      *Finally, accept the **Terms of use** to proceed.*\n",
    "\n",
    "   <img src=\"./images/era5_land_monthly/04_data_format_download_format_terms_of_use.png\" width=\"650\" style=\"display: block; margin: 0 auto; border: 1px solid #aeaeae\">\n",
    "\n",
    "3. After completing Step 2, your API request should resemble the following:\n",
    "\n",
    "   <img src=\"./images/era5_land_monthly/05_api_request.png\" width=\"650\" style=\"display: block; margin: 0 auto; border: 1px solid #aeaeae\">\n",
    "\n",
    "4. **Copy the API request**: Use the provided **dataset** and **request** fields for the next step by copying the generated code.\n",
    "\n",
    "> **Important**: Large datasets result in longer queue and processing times. To optimize, apply filters that are specific to your use case."
   ]
  },
  {
   "cell_type": "markdown",
   "metadata": {},
   "source": [
    "### 2.3 Execute API Request and Download\n",
    "\n",
    "To download the dataset, follow these steps:\n",
    "\n",
    "1. Replace the placeholders for **dataset** and **request parameters** in the code cell below with the values generated from your API request in the previous step.\n",
    "\n",
    "2. Ensure the **request parameters** match the configuration you defined earlier (e.g., product type, variables, years, months, etc.).\n",
    "\n",
    "3. Run the cell to execute the API request and download the dataset."
   ]
  },
  {
   "cell_type": "code",
   "execution_count": 3,
   "metadata": {},
   "outputs": [],
   "source": [
    "# Define the dataset and request parameters\n",
    "dataset = \"reanalysis-era5-land-monthly-means\"\n",
    "request = {\n",
    "    \"product_type\": [\"monthly_averaged_reanalysis\"],\n",
    "    \"variable\": [\"2m_temperature\"],\n",
    "    \"year\": [\n",
    "        \"1950\", \"1951\", \"1952\",\n",
    "        \"1953\", \"1954\", \"1955\",\n",
    "        \"1956\", \"1957\", \"1958\",\n",
    "        \"1959\", \"1960\", \"1961\",\n",
    "        \"1962\", \"1963\", \"1964\",\n",
    "        \"1965\", \"1966\", \"1967\",\n",
    "        \"1968\", \"1969\", \"1970\",\n",
    "        \"1971\", \"1972\", \"1973\",\n",
    "        \"1974\", \"1975\", \"1976\",\n",
    "        \"1977\", \"1978\", \"1979\",\n",
    "        \"1980\", \"1981\", \"1982\",\n",
    "        \"1983\", \"1984\", \"1985\",\n",
    "        \"1986\", \"1987\", \"1988\",\n",
    "        \"1989\", \"1990\", \"1991\",\n",
    "        \"1992\", \"1993\", \"1994\",\n",
    "        \"1995\", \"1996\", \"1997\",\n",
    "        \"1998\", \"1999\", \"2000\",\n",
    "        \"2001\", \"2002\", \"2003\",\n",
    "        \"2004\", \"2005\", \"2006\",\n",
    "        \"2007\", \"2008\", \"2009\",\n",
    "        \"2010\", \"2011\", \"2012\",\n",
    "        \"2013\", \"2014\", \"2015\",\n",
    "        \"2016\", \"2017\", \"2018\",\n",
    "        \"2019\", \"2020\", \"2021\",\n",
    "        \"2022\", \"2023\", \"2024\"\n",
    "    ],\n",
    "    \"month\": [\n",
    "        \"01\", \"02\", \"03\",\n",
    "        \"04\", \"05\", \"06\",\n",
    "        \"07\", \"08\", \"09\",\n",
    "        \"10\", \"11\", \"12\"\n",
    "    ],\n",
    "    \"time\": [\"00:00\"],\n",
    "    \"data_format\": \"netcdf\",\n",
    "    \"download_format\": \"unarchived\",\n",
    "    \"area\": [47.8, 9, 47.6, 9.3]\n",
    "}"
   ]
  },
  {
   "cell_type": "code",
   "execution_count": 4,
   "metadata": {},
   "outputs": [
    {
     "name": "stderr",
     "output_type": "stream",
     "text": [
      "2025-02-18 17:00:31,667 INFO [2024-09-26T00:00:00] Watch our [Forum](https://forum.ecmwf.int/) for Announcements, news and other discussed topics.\n"
     ]
    },
    {
     "name": "stderr",
     "output_type": "stream",
     "text": [
      "2025-02-18 17:00:31,669 WARNING [2024-06-16T00:00:00] CDS API syntax is changed and some keys or parameter names may have also changed. To avoid requests failing, please use the \"Show API request code\" tool on the dataset Download Form to check you are using the correct syntax for your API request.\n"
     ]
    },
    {
     "name": "stdout",
     "output_type": "stream",
     "text": [
      "CDS API client initialized successfully.\n",
      "Dataset already downloaded.\n"
     ]
    }
   ],
   "source": [
    "# Uncomment and run this cell to download the dataset\n",
    "# This dataset takes approximately 3 minutes to proceess and additional 1 minute to download\n",
    "# Filesize: 99.2kb\n",
    "\n",
    "def main_retrieve():\n",
    "    # This request downloads year 1950 to 2024 data, monthly averaged at 00:00\n",
    "    dataset_filename = f\"{dataset}_test_data.nc\"\n",
    "    dataset_filepath = os.path.join(download_folder, dataset_filename)\n",
    "\n",
    "    # Download the dataset only if the dataset has not been downloaded before\n",
    "    if not os.path.isfile(dataset_filepath):\n",
    "        # Download the dataset with the defined request parameters\n",
    "        client.retrieve(dataset, request, dataset_filepath)\n",
    "    else:\n",
    "        print(\"Dataset already downloaded.\")\n",
    "\n",
    "if __name__ == \"__main__\":\n",
    "    client = main()\n",
    "    main_retrieve()"
   ]
  },
  {
   "cell_type": "markdown",
   "metadata": {},
   "source": [
    "While the code is running, you can monitor the status of your API requests by visiting the **Your requests** section on the [CDS Request page](https://cds.climate.copernicus.eu/requests?tab=all).\n",
    "\n",
    "This section provides detailed information about the progress, queue status, and completion of your requests.\n",
    "\n",
    "<img src=\"./images/era5_land_monthly/06_your_requests.png\" width=\"700\" style=\"display: block; margin: 0 auto; border: 1px solid #aeaeae\">\n"
   ]
  }
 ],
 "metadata": {
  "kernelspec": {
   "display_name": "myenv",
   "language": "python",
   "name": "python3"
  },
  "language_info": {
   "codemirror_mode": {
    "name": "ipython",
    "version": 3
   },
   "file_extension": ".py",
   "mimetype": "text/x-python",
   "name": "python",
   "nbconvert_exporter": "python",
   "pygments_lexer": "ipython3",
   "version": "3.10.16"
  }
 },
 "nbformat": 4,
 "nbformat_minor": 2
}