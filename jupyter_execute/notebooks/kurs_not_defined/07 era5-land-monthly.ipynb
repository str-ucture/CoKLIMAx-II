{
 "cells": [
  {
   "cell_type": "markdown",
   "metadata": {},
   "source": [
    "# ERA5-Land Monthly Averaged\n",
    "\n",
    "ERA5-Land is a high-resolution reanalysis dataset that provides a consistent and detailed view of land variables over several decades, combining model data with atmospheric forcing from ERA5 to ensure accuracy. By correcting input variables for altitude differences and leveraging indirect observational influences, it offers enhanced precision for land surface applications like flood and drought forecasting. Despite some inherent uncertainties, ERA5-Land's extensive temporal and spatial resolution makes it a valuable resource for decision-making and environmental analysis.\n",
    "\n",
    "**Information on Dataset:**\n",
    "* Source: [ERA5-Land Hourly Data](https://cds.climate.copernicus.eu/datasets/reanalysis-era5-land-monthly-means?tab=overview)\n",
    "* Author:\n",
    "* Notebook Version: 1.1 (Updated: December 09, 2024)"
   ]
  },
  {
   "cell_type": "markdown",
   "metadata": {},
   "source": [
    "## 1. Specifying the paths and working directories"
   ]
  },
  {
   "cell_type": "code",
   "execution_count": 1,
   "metadata": {},
   "outputs": [],
   "source": [
    "import os\n",
    "\n",
    "''' ---- Hier die Verzeichnisse angeben ---- '''\n",
    "download_folder = r\".\\data\\era5-land-monthly-data\\download\"\n",
    "working_folder = r\".\\data\\era5-land-monthly-data\\working\"\n",
    "geotiff_folder = r\".\\data\\era5-land-monthly-data\\geotiff\"\n",
    "csv_folder = r\".\\data\\era5-land-monthly-data\\csv\"\n",
    "output_folder = r\".\\data\\era5-land-monthly-data\\output\"\n",
    "''' ----- Ende der Eingaben ---- '''\n",
    "\n",
    "os.makedirs(download_folder, exist_ok=True)\n",
    "os.makedirs(working_folder, exist_ok=True)\n",
    "os.makedirs(geotiff_folder, exist_ok=True)\n",
    "os.makedirs(csv_folder, exist_ok=True)\n",
    "os.makedirs(output_folder, exist_ok=True)"
   ]
  },
  {
   "cell_type": "markdown",
   "metadata": {},
   "source": [
    "## 2. Download and Extract Dataset"
   ]
  },
  {
   "cell_type": "markdown",
   "metadata": {},
   "source": [
    "### 2.1 Authentication"
   ]
  },
  {
   "cell_type": "code",
   "execution_count": 2,
   "metadata": {},
   "outputs": [],
   "source": [
    "import cdsapi\n",
    "\n",
    "def main():\n",
    "    api_key = \"fdae60fd-35d4-436f-825c-c63fedab94a4\"\n",
    "    api_url = \"https://cds.climate.copernicus.eu/api\"\n",
    "    client = cdsapi.Client(url=api_url, key=api_key)\n",
    "    return client"
   ]
  },
  {
   "cell_type": "markdown",
   "metadata": {},
   "source": [
    "### 2.2 Request Definition and Download"
   ]
  },
  {
   "cell_type": "markdown",
   "metadata": {},
   "source": [
    "#### 1. Create list of variables\n",
    "\n",
    "The list of variables are available at [ERA5-Land Monthly Averaged](https://cds.climate.copernicus.eu/datasets/reanalysis-era5-land-monthly-means?tab=overview)\n",
    "\n",
    "*Please check and modify the predefined variable name if any issue arises with variable name.* "
   ]
  },
  {
   "cell_type": "code",
   "execution_count": 3,
   "metadata": {},
   "outputs": [],
   "source": [
    "# Variable Groups\n",
    "var_group_temperature = [\n",
    "    \"2m_dewpoint_temperature\",\n",
    "    \"2m_temperature\",\n",
    "    \"skin_temperature\",\n",
    "    \"soil_temperature_level_1\",\n",
    "    \"soil_temperature_level_2\",\n",
    "    \"soil_temperature_level_3\",\n",
    "    \"soil_temperature_level_4\"]\n",
    "\n",
    "var_group_lake = [\n",
    "    \"lake_bottom_temperature\",\n",
    "    \"lake_ice_depth\",\n",
    "    \"lake_ice_temperature\",\n",
    "    \"lake_mix_layer_depth\",\n",
    "    \"lake_mix_layer_temperature\",\n",
    "    \"lake_shape_factor\",\n",
    "    \"lake_total_layer_temperature\"]\n",
    "\n",
    "var_group_snow = [\n",
    "    \"snow_albedo\",\n",
    "    \"snow_cover\",\n",
    "    \"snow_density\",\n",
    "    \"snow_depth\",\n",
    "    \"snow_depth_water_equivalent\",\n",
    "    \"snowfall\",\n",
    "    \"snowmelt\",\n",
    "    \"temperature_of_snow_layer\"]\n",
    "\n",
    "var_group_soil_water = [\n",
    "    \"skin_reservoir_content\",\n",
    "    \"volumetric_soil_water_layer_1\",\n",
    "    \"volumetric_soil_water_layer_2\",\n",
    "    \"volumetric_soil_water_layer_3\",\n",
    "    \"volumetric_soil_water_layer_4\"]\n",
    "\n",
    "var_group_radiation_and_heat = [\n",
    "    \"forecast_albedo\",\n",
    "    \"surface_latent_heat_flux\",\n",
    "    \"surface_net_solar_radiation\",\n",
    "    \"surface_net_thermal_radiation\",\n",
    "    \"surface_sensible_heat_flux\",\n",
    "    \"surface_solar_radiation_downwards\",\n",
    "    \"surface_thermal_radiation_downwards\"]\n",
    "\n",
    "var_group_evaporation_and_runoff = [\n",
    "    \"evaporation_from_bare_soil\",\n",
    "    \"evaporation_from_open_water_surfaces_excluding_oceans\",\n",
    "    \"evaporation_from_the_top_of_canopy\",\n",
    "    \"evaporation_from_vegetation_transpiration\",\n",
    "    \"potential_evaporation\",\n",
    "    \"runoff\",\n",
    "    \"snow_evaporation\",\n",
    "    \"sub_surface_runoff\",\n",
    "    \"surface_runoff\",\n",
    "    \"total_evaporation\"]\n",
    "\n",
    "var_group_wind_pressure_and_precipitation = [\n",
    "    \"10m_u_component_of_wind\",\n",
    "    \"10m_v_component_of_wind\",\n",
    "    \"surface_pressure\",\n",
    "    \"total_precipitation\"]\n",
    "\n",
    "var_group_vegetation = [\n",
    "    \"leaf_area_index_high_vegetation\",\n",
    "    \"leaf_area_index_low_vegetation\"]\n",
    "\n",
    "# List of variable group\n",
    "var_group_list = ['var_group_temperature',\n",
    "                  'var_group_lake',\n",
    "                  'var_group_snow',\n",
    "                  'var_group_soil_water',\n",
    "                  'var_group_radiation_and_heat',\n",
    "                  'var_group_evaporation_and_runoff',\n",
    "                  'var_group_wind_pressure_and_precipitation',\n",
    "                  'var_group_vegetation']"
   ]
  },
  {
   "cell_type": "markdown",
   "metadata": {},
   "source": [
    "#### 2. Define request parameters for download"
   ]
  },
  {
   "cell_type": "code",
   "execution_count": 4,
   "metadata": {},
   "outputs": [
    {
     "data": {
      "application/vnd.jupyter.widget-view+json": {
       "model_id": "dd49106fa67b432083c0bcd16bda06d3",
       "version_major": 2,
       "version_minor": 0
      },
      "text/plain": [
       "Dropdown(description='Select a variable group', layout=Layout(width='50%'), options=('var_group_temperature', …"
      ]
     },
     "execution_count": 4,
     "metadata": {},
     "output_type": "execute_result"
    }
   ],
   "source": [
    "import ipywidgets as widgets\n",
    "\n",
    "selected_variable_group = widgets.Dropdown(\n",
    "    options=var_group_list,\n",
    "    value=var_group_list[0],\n",
    "    description=\"Select a variable group\",\n",
    "    style=dict(description_width='initial'),\n",
    "    layout=widgets.Layout(width='50%'),\n",
    ")\n",
    "\n",
    "selected_variable_group"
   ]
  },
  {
   "cell_type": "code",
   "execution_count": 5,
   "metadata": {},
   "outputs": [
    {
     "data": {
      "application/vnd.jupyter.widget-view+json": {
       "model_id": "bc2a22d0c62748f5b8deac247515d124",
       "version_major": 2,
       "version_minor": 0
      },
      "text/plain": [
       "Dropdown(description='Select the variable of interest', index=1, layout=Layout(width='50%'), options=('2m_dewp…"
      ]
     },
     "execution_count": 5,
     "metadata": {},
     "output_type": "execute_result"
    }
   ],
   "source": [
    "current_variable_group = globals().get(selected_variable_group.value)\n",
    "\n",
    "selected_variable = widgets.Dropdown(\n",
    "    options=current_variable_group,\n",
    "    value=current_variable_group[1],\n",
    "    description=\"Select the variable of interest\",\n",
    "    style=dict(description_width='initial'),\n",
    "    layout=widgets.Layout(width='50%'),\n",
    ")\n",
    "\n",
    "selected_variable"
   ]
  },
  {
   "cell_type": "markdown",
   "metadata": {},
   "source": [
    "#### 3. Define Bounding Box Extents (Bbox) for the Dataset"
   ]
  },
  {
   "cell_type": "code",
   "execution_count": 6,
   "metadata": {},
   "outputs": [],
   "source": [
    "# Define additional request fields to ensure the request stays within the file size limit.\n",
    "# These coordinates were obtained using the BBox Extractor tool:\n",
    "# https://str-ucture.github.io/bbox-extractor/\n",
    "\n",
    "bbox_wgs84_deutschland = [56.0, 5.8, 47.2, 15.0] # North, West, South, East\n",
    "bbox_wgs84_konstanz = [47.9, 8.9, 47.6, 9.3]\n",
    "\n",
    "# Alternatively, use a shapefile for precise geographic filtering\n",
    "import geopandas as gpd\n",
    "import math\n",
    "\n",
    "# Example: Load shapefile of Konstanz (WGS84 projection)\n",
    "de_shapefile = r\"./shapefiles/de_boundary.shp\"\n",
    "de_gdf = gpd.read_file(de_shapefile)\n",
    "de_bounds = de_gdf.total_bounds\n",
    "\n",
    "# Adjust and buffer\n",
    "de_bounds_adjusted = [(math.floor(de_bounds[0]* 10)/10)-0.1,\n",
    "                      (math.floor(de_bounds[1]* 10)/10)-0.1,\n",
    "                      (math.ceil(de_bounds[2]* 10)/10)+0.1,\n",
    "                      (math.ceil(de_bounds[3]* 10)/10)+0.1]\n",
    "\n",
    "bbox_de_bounds_adjusted = [de_bounds_adjusted[3], de_bounds_adjusted[0],\n",
    "                           de_bounds_adjusted[1], de_bounds_adjusted[2]]"
   ]
  },
  {
   "cell_type": "markdown",
   "metadata": {},
   "source": [
    "#### 4. Define request parameters"
   ]
  },
  {
   "cell_type": "code",
   "execution_count": 7,
   "metadata": {},
   "outputs": [],
   "source": [
    "dataset = \"reanalysis-era5-land-monthly-means\"\n",
    "request = {\n",
    "    \"product_type\": [\"monthly_averaged_reanalysis_by_hour_of_day\"],\n",
    "    \"variable\": selected_variable.value,\n",
    "    \"year\": [str(year) for year in range(1950,2024+1,1)],\n",
    "    \"month\": [str(month) for month in range(13)],\n",
    "    \"time\": [f\"{hour:02d}:00\" for hour in range(24)],  ## Selecting multiple hours doesnt generate all the time steps. to-check: if the value is    \n",
    "    \"data_format\": \"netcdf\",\n",
    "    \"download_format\": \"unarchived\",\n",
    "    \"area\": bbox_de_bounds_adjusted\n",
    "}"
   ]
  },
  {
   "cell_type": "code",
   "execution_count": 8,
   "metadata": {},
   "outputs": [],
   "source": [
    "# # Run this cell to download the dataset:\n",
    "# # check if all time steps are available\n",
    "# dataset_filename = f\"{dataset}-{request['product_type'][0]}-{selected_variable.value}_check2.nc\"\n",
    "# dataset_filepath = os.path.join(download_folder, dataset_filename)\n",
    "\n",
    "# def main_retrieve():\n",
    "#     # Download the dataset only if the dataset has not been downloaded before\n",
    "#     if not os.path.isfile(dataset_filepath):\n",
    "#         # Download the dataset with the defined request parameters\n",
    "#         client.retrieve(dataset, request, dataset_filepath)\n",
    "#     else:\n",
    "#         print(\"Dataset already downloaded.\")\n",
    "\n",
    "# if __name__ == \"__main__\":\n",
    "#     client = main()\n",
    "#     main_retrieve()"
   ]
  },
  {
   "cell_type": "markdown",
   "metadata": {},
   "source": [
    "### 2.3 Extract the Zip folder\n",
    "\n",
    "(**Note**: Since the downloaded dataset is only for 1 single variable, 1 netCDF file is downloaded and CDS does not create a zip file for single variable netCDF file)"
   ]
  },
  {
   "cell_type": "code",
   "execution_count": 9,
   "metadata": {},
   "outputs": [],
   "source": [
    "# import zipfile\n",
    "\n",
    "# extract_folder = os.path.join(working_folder, f\"{selected_variable.value}\")\n",
    "# os.makedirs(extract_folder, exist_ok=True)\n",
    "\n",
    "# # Extract the zip file\n",
    "# try:\n",
    "#     if not os.listdir(extract_folder):\n",
    "#         dataset_filename = dataset_filename = f\"{dataset}-{request['product_type'][0]}-{selected_variable.value}.nc\"\n",
    "#         dataset_filepath = os.path.join(download_folder, dataset_filename)\n",
    "\n",
    "#         with zipfile.ZipFile(dataset_filepath, 'r') as zip_ref:\n",
    "#             zip_ref.extractall(extract_folder)\n",
    "#             print(f\"Successfully extracted files to: {extract_folder}\")\n",
    "#     else:\n",
    "#         print(\"Folder is not empty. Skipping extraction.\")\n",
    "# except FileNotFoundError:\n",
    "#     print(f\"Error: The file {dataset_filepath} was not found.\")\n",
    "# except zipfile.BadZipFile:\n",
    "#     print(f\"Error: The file {dataset_filepath} is not a valid zip file.\")\n",
    "# except Exception as e:\n",
    "#     print(f\"An unexpected error occurred: {e}\")"
   ]
  },
  {
   "cell_type": "markdown",
   "metadata": {},
   "source": [
    "## 3. Read the netCDF file and print the metadata"
   ]
  },
  {
   "cell_type": "code",
   "execution_count": 10,
   "metadata": {},
   "outputs": [],
   "source": [
    "# import netCDF4 as nc\n",
    "\n",
    "# nc_dataset = nc.Dataset(dataset_filepath, mode='r')\n",
    "\n",
    "# # List all variables in the dataset\n",
    "# variables_list = list(nc_dataset.variables.keys())\n",
    "\n",
    "# print(f\"Available variables: {variables_list}\")"
   ]
  },
  {
   "cell_type": "code",
   "execution_count": 11,
   "metadata": {},
   "outputs": [],
   "source": [
    "# import pandas as pd\n",
    "\n",
    "# rows = []\n",
    "# for test_var in variables_list:\n",
    "#     try:\n",
    "#         var_obj = nc_dataset.variables[test_var]\n",
    "#         unit = getattr(var_obj, 'units', 'N/A')\n",
    "#         shape = var_obj.shape\n",
    "#         rows.append({\n",
    "#             \"nc_variables\": test_var,\n",
    "#             \"unit\": unit,\n",
    "#             \"shape\": shape\n",
    "#         })\n",
    "#     except Exception as e:\n",
    "#         print(f\"Error processing variable {test_var}: {e}\")\n",
    "\n",
    "# # Create a DataFrame\n",
    "# df = pd.DataFrame(rows)\n",
    "# df"
   ]
  },
  {
   "cell_type": "code",
   "execution_count": 12,
   "metadata": {},
   "outputs": [],
   "source": [
    "# variable_name = 't2m'\n",
    "# variable_data = nc_dataset[variable_name]\n",
    "\n",
    "# # Generate summary of the primary variable\n",
    "# summary = {\n",
    "#     \"Variable Name\": variable_name,\n",
    "#     \"Data Type\": variable_data.dtype,\n",
    "#     \"Shape\": variable_data.shape,\n",
    "#     \"Variable Info\": f\"{variable_data.dimensions}\",\n",
    "#     \"Units\": getattr(variable_data, \"units\", \"N/A\"),\n",
    "#     \"Long Name\": getattr(variable_data, \"long_name\", \"N/A\"),\n",
    "# }\n",
    "\n",
    "# # Display dataset summary as a DataFrame for better visualization\n",
    "# nc_summary = pd.DataFrame(list(summary.items()), columns=['Description', 'Remarks'])\n",
    "\n",
    "# # Display the summary DataFrame\n",
    "# display(nc_summary)"
   ]
  },
  {
   "cell_type": "markdown",
   "metadata": {},
   "source": [
    "## 4. Export Dataset to CSV"
   ]
  },
  {
   "cell_type": "code",
   "execution_count": 13,
   "metadata": {},
   "outputs": [],
   "source": [
    "# # Define additional request fields to ensure the request stays within the file size limit.\n",
    "# # These coordinates were obtained using the BBox Extractor tool:\n",
    "# # https://str-ucture.github.io/bbox-extractor/\n",
    "\n",
    "# bbox_wgs84_konstanz = [47.9, 8.9, 47.6, 9.3]  # Format: [North, West, South, East]\n",
    "# bbox_wgs84_konstanz_standard = [9.0, 47.6, 9.3, 47.8]  # Standard format: [West, South, East, North]\n",
    "# bbox_wgs84_de_standard = [5.7, 47.1, 15.2, 55.2]  # Standard format: [West, South, East, North]"
   ]
  },
  {
   "cell_type": "code",
   "execution_count": 14,
   "metadata": {},
   "outputs": [],
   "source": [
    "# import xarray as xr\n",
    "\n",
    "# # Open the NetCDF dataet using xarray\n",
    "# def netcdf_to_dataframe(nc_file, bounding_box=None):\n",
    "#     with xr.open_dataset(nc_file) as nc_dataset:\n",
    "        \n",
    "#         variable_data = nc_dataset[variable_name]\n",
    "        \n",
    "#         # Ensure latitude and longitude names are correct\n",
    "#         latitude_name = 'latitude' if 'latitude' in nc_dataset.coords else 'lat'\n",
    "#         longitude_name = 'longitude' if 'longitude' in nc_dataset.coords else 'lon'\n",
    "\n",
    "#         if bounding_box:\n",
    "#             # Filter the data based on latitude and longitude\n",
    "#             filtered_data = variable_data.where(\n",
    "#                 (nc_dataset[latitude_name] >= bounding_box[1]) & (nc_dataset[latitude_name] <= bounding_box[3]) &\n",
    "#                 (nc_dataset[longitude_name] >= bounding_box[0]) & (nc_dataset[longitude_name] <= bounding_box[2]),\n",
    "#                 drop=True\n",
    "#             )\n",
    "#         else:\n",
    "#             filtered_data = variable_data\n",
    "\n",
    "#         # Convert the variable data to a DataFrame\n",
    "#         df = filtered_data.to_dataframe().reset_index().set_index(['valid_time', 'latitude', 'longitude'])\n",
    "#         return df\n",
    "\n",
    "# df = netcdf_to_dataframe(nc_file=dataset_filepath, bounding_box=bbox_wgs84_konstanz_standard)\n",
    "# df"
   ]
  }
 ],
 "metadata": {
  "kernelspec": {
   "display_name": "myenv",
   "language": "python",
   "name": "python3"
  },
  "language_info": {
   "codemirror_mode": {
    "name": "ipython",
    "version": 3
   },
   "file_extension": ".py",
   "mimetype": "text/x-python",
   "name": "python",
   "nbconvert_exporter": "python",
   "pygments_lexer": "ipython3",
   "version": "3.10.16"
  },
  "widgets": {
   "application/vnd.jupyter.widget-state+json": {
    "state": {
     "1c216a92cfbb419ca319c081b7a661bd": {
      "model_module": "@jupyter-widgets/base",
      "model_module_version": "2.0.0",
      "model_name": "LayoutModel",
      "state": {
       "_model_module": "@jupyter-widgets/base",
       "_model_module_version": "2.0.0",
       "_model_name": "LayoutModel",
       "_view_count": null,
       "_view_module": "@jupyter-widgets/base",
       "_view_module_version": "2.0.0",
       "_view_name": "LayoutView",
       "align_content": null,
       "align_items": null,
       "align_self": null,
       "border_bottom": null,
       "border_left": null,
       "border_right": null,
       "border_top": null,
       "bottom": null,
       "display": null,
       "flex": null,
       "flex_flow": null,
       "grid_area": null,
       "grid_auto_columns": null,
       "grid_auto_flow": null,
       "grid_auto_rows": null,
       "grid_column": null,
       "grid_gap": null,
       "grid_row": null,
       "grid_template_areas": null,
       "grid_template_columns": null,
       "grid_template_rows": null,
       "height": null,
       "justify_content": null,
       "justify_items": null,
       "left": null,
       "margin": null,
       "max_height": null,
       "max_width": null,
       "min_height": null,
       "min_width": null,
       "object_fit": null,
       "object_position": null,
       "order": null,
       "overflow": null,
       "padding": null,
       "right": null,
       "top": null,
       "visibility": null,
       "width": "50%"
      }
     },
     "90f19994a77944d283fe7967e834c36e": {
      "model_module": "@jupyter-widgets/base",
      "model_module_version": "2.0.0",
      "model_name": "LayoutModel",
      "state": {
       "_model_module": "@jupyter-widgets/base",
       "_model_module_version": "2.0.0",
       "_model_name": "LayoutModel",
       "_view_count": null,
       "_view_module": "@jupyter-widgets/base",
       "_view_module_version": "2.0.0",
       "_view_name": "LayoutView",
       "align_content": null,
       "align_items": null,
       "align_self": null,
       "border_bottom": null,
       "border_left": null,
       "border_right": null,
       "border_top": null,
       "bottom": null,
       "display": null,
       "flex": null,
       "flex_flow": null,
       "grid_area": null,
       "grid_auto_columns": null,
       "grid_auto_flow": null,
       "grid_auto_rows": null,
       "grid_column": null,
       "grid_gap": null,
       "grid_row": null,
       "grid_template_areas": null,
       "grid_template_columns": null,
       "grid_template_rows": null,
       "height": null,
       "justify_content": null,
       "justify_items": null,
       "left": null,
       "margin": null,
       "max_height": null,
       "max_width": null,
       "min_height": null,
       "min_width": null,
       "object_fit": null,
       "object_position": null,
       "order": null,
       "overflow": null,
       "padding": null,
       "right": null,
       "top": null,
       "visibility": null,
       "width": "50%"
      }
     },
     "bc2a22d0c62748f5b8deac247515d124": {
      "model_module": "@jupyter-widgets/controls",
      "model_module_version": "2.0.0",
      "model_name": "DropdownModel",
      "state": {
       "_dom_classes": [],
       "_model_module": "@jupyter-widgets/controls",
       "_model_module_version": "2.0.0",
       "_model_name": "DropdownModel",
       "_options_labels": [
        "2m_dewpoint_temperature",
        "2m_temperature",
        "skin_temperature",
        "soil_temperature_level_1",
        "soil_temperature_level_2",
        "soil_temperature_level_3",
        "soil_temperature_level_4"
       ],
       "_view_count": null,
       "_view_module": "@jupyter-widgets/controls",
       "_view_module_version": "2.0.0",
       "_view_name": "DropdownView",
       "description": "Select the variable of interest",
       "description_allow_html": false,
       "disabled": false,
       "index": 1,
       "layout": "IPY_MODEL_1c216a92cfbb419ca319c081b7a661bd",
       "style": "IPY_MODEL_e56f8d980666411cbc7fe89e362f21ea",
       "tabbable": null,
       "tooltip": null
      }
     },
     "dd49106fa67b432083c0bcd16bda06d3": {
      "model_module": "@jupyter-widgets/controls",
      "model_module_version": "2.0.0",
      "model_name": "DropdownModel",
      "state": {
       "_dom_classes": [],
       "_model_module": "@jupyter-widgets/controls",
       "_model_module_version": "2.0.0",
       "_model_name": "DropdownModel",
       "_options_labels": [
        "var_group_temperature",
        "var_group_lake",
        "var_group_snow",
        "var_group_soil_water",
        "var_group_radiation_and_heat",
        "var_group_evaporation_and_runoff",
        "var_group_wind_pressure_and_precipitation",
        "var_group_vegetation"
       ],
       "_view_count": null,
       "_view_module": "@jupyter-widgets/controls",
       "_view_module_version": "2.0.0",
       "_view_name": "DropdownView",
       "description": "Select a variable group",
       "description_allow_html": false,
       "disabled": false,
       "index": 0,
       "layout": "IPY_MODEL_90f19994a77944d283fe7967e834c36e",
       "style": "IPY_MODEL_ff9179b7b6da4ea89a449adb3a1ef44c",
       "tabbable": null,
       "tooltip": null
      }
     },
     "e56f8d980666411cbc7fe89e362f21ea": {
      "model_module": "@jupyter-widgets/controls",
      "model_module_version": "2.0.0",
      "model_name": "DescriptionStyleModel",
      "state": {
       "_model_module": "@jupyter-widgets/controls",
       "_model_module_version": "2.0.0",
       "_model_name": "DescriptionStyleModel",
       "_view_count": null,
       "_view_module": "@jupyter-widgets/base",
       "_view_module_version": "2.0.0",
       "_view_name": "StyleView",
       "description_width": "initial"
      }
     },
     "ff9179b7b6da4ea89a449adb3a1ef44c": {
      "model_module": "@jupyter-widgets/controls",
      "model_module_version": "2.0.0",
      "model_name": "DescriptionStyleModel",
      "state": {
       "_model_module": "@jupyter-widgets/controls",
       "_model_module_version": "2.0.0",
       "_model_name": "DescriptionStyleModel",
       "_view_count": null,
       "_view_module": "@jupyter-widgets/base",
       "_view_module_version": "2.0.0",
       "_view_name": "StyleView",
       "description_width": "initial"
      }
     }
    },
    "version_major": 2,
    "version_minor": 0
   }
  }
 },
 "nbformat": 4,
 "nbformat_minor": 2
}