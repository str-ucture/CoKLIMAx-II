{
 "cells": [
  {
   "cell_type": "markdown",
   "metadata": {},
   "source": [
    "# ERA5-Land Monthly Averaged\n",
    "\n",
    "ERA5-Land is a high-resolution reanalysis dataset that provides a consistent and detailed view of land variables over several decades, combining model data with atmospheric forcing from ERA5 to ensure accuracy. By correcting input variables for altitude differences and leveraging indirect observational influences, it offers enhanced precision for land surface applications like flood and drought forecasting. Despite some inherent uncertainties, ERA5-Land's extensive temporal and spatial resolution makes it a valuable resource for decision-making and environmental analysis.\n",
    "\n",
    "**Information on Dataset:**\n",
    "* Source: [ERA5-Land Hourly Data](https://cds.climate.copernicus.eu/datasets/reanalysis-era5-land-monthly-means?tab=overview)\n",
    "* Author:\n",
    "* Notebook Version: 1.1 (Updated: December 09, 2024)"
   ]
  },
  {
   "cell_type": "markdown",
   "metadata": {},
   "source": [
    "## 1. Specifying the paths and working directories"
   ]
  },
  {
   "cell_type": "code",
   "execution_count": 1,
   "metadata": {},
   "outputs": [],
   "source": [
    "import os\n",
    "\n",
    "''' ---- Hier die Verzeichnisse angeben ---- '''\n",
    "download_folder = r\".\\data\\era5-land-monthly-data\\download\"\n",
    "working_folder = r\".\\data\\era5-land-monthly-data\\working\"\n",
    "geotiff_folder = r\".\\data\\era5-land-monthly-data\\geotiff\"\n",
    "csv_folder = r\".\\data\\era5-land-monthly-data\\csv\"\n",
    "output_folder = r\".\\data\\era5-land-monthly-data\\output\"\n",
    "''' ----- Ende der Eingaben ---- '''\n",
    "\n",
    "os.makedirs(download_folder, exist_ok=True)\n",
    "os.makedirs(working_folder, exist_ok=True)\n",
    "os.makedirs(geotiff_folder, exist_ok=True)\n",
    "os.makedirs(csv_folder, exist_ok=True)\n",
    "os.makedirs(output_folder, exist_ok=True)"
   ]
  },
  {
   "cell_type": "markdown",
   "metadata": {},
   "source": [
    "## 2. Download and Extract Dataset"
   ]
  },
  {
   "cell_type": "markdown",
   "metadata": {},
   "source": [
    "### 2.1 Authentication"
   ]
  },
  {
   "cell_type": "code",
   "execution_count": 2,
   "metadata": {},
   "outputs": [],
   "source": [
    "import cdsapi\n",
    "\n",
    "def main():\n",
    "    api_key = \"fdae60fd-35d4-436f-825c-c63fedab94a4\"\n",
    "    api_url = \"https://cds.climate.copernicus.eu/api\"\n",
    "    client = cdsapi.Client(url=api_url, key=api_key)\n",
    "    return client"
   ]
  },
  {
   "cell_type": "markdown",
   "metadata": {},
   "source": [
    "### 2.2 Request Definition and Download"
   ]
  },
  {
   "cell_type": "markdown",
   "metadata": {},
   "source": [
    "#### 1. Create list of variables\n",
    "\n",
    "The list of variables are available at [ERA5-Land Monthly Averaged](https://cds.climate.copernicus.eu/datasets/reanalysis-era5-land-monthly-means?tab=overview)\n",
    "\n",
    "*Please check and modify the predefined variable name if any issue arises with variable name.* "
   ]
  },
  {
   "cell_type": "code",
   "execution_count": 3,
   "metadata": {},
   "outputs": [],
   "source": [
    "# Variable Groups\n",
    "var_group_temperature = [\n",
    "    \"2m_dewpoint_temperature\",\n",
    "    \"2m_temperature\",\n",
    "    \"skin_temperature\",\n",
    "    \"soil_temperature_level_1\",\n",
    "    \"soil_temperature_level_2\",\n",
    "    \"soil_temperature_level_3\",\n",
    "    \"soil_temperature_level_4\"]\n",
    "\n",
    "var_group_lake = [\n",
    "    \"lake_bottom_temperature\",\n",
    "    \"lake_ice_depth\",\n",
    "    \"lake_ice_temperature\",\n",
    "    \"lake_mix_layer_depth\",\n",
    "    \"lake_mix_layer_temperature\",\n",
    "    \"lake_shape_factor\",\n",
    "    \"lake_total_layer_temperature\"]\n",
    "\n",
    "var_group_snow = [\n",
    "    \"snow_albedo\",\n",
    "    \"snow_cover\",\n",
    "    \"snow_density\",\n",
    "    \"snow_depth\",\n",
    "    \"snow_depth_water_equivalent\",\n",
    "    \"snowfall\",\n",
    "    \"snowmelt\",\n",
    "    \"temperature_of_snow_layer\"]\n",
    "\n",
    "var_group_soil_water = [\n",
    "    \"skin_reservoir_content\",\n",
    "    \"volumetric_soil_water_layer_1\",\n",
    "    \"volumetric_soil_water_layer_2\",\n",
    "    \"volumetric_soil_water_layer_3\",\n",
    "    \"volumetric_soil_water_layer_4\"]\n",
    "\n",
    "var_group_radiation_and_heat = [\n",
    "    \"forecast_albedo\",\n",
    "    \"surface_latent_heat_flux\",\n",
    "    \"surface_net_solar_radiation\",\n",
    "    \"surface_net_thermal_radiation\",\n",
    "    \"surface_sensible_heat_flux\",\n",
    "    \"surface_solar_radiation_downwards\",\n",
    "    \"surface_thermal_radiation_downwards\"]\n",
    "\n",
    "var_group_evaporation_and_runoff = [\n",
    "    \"evaporation_from_bare_soil\",\n",
    "    \"evaporation_from_open_water_surfaces_excluding_oceans\",\n",
    "    \"evaporation_from_the_top_of_canopy\",\n",
    "    \"evaporation_from_vegetation_transpiration\",\n",
    "    \"potential_evaporation\",\n",
    "    \"runoff\",\n",
    "    \"snow_evaporation\",\n",
    "    \"sub_surface_runoff\",\n",
    "    \"surface_runoff\",\n",
    "    \"total_evaporation\"]\n",
    "\n",
    "var_group_wind_pressure_and_precipitation = [\n",
    "    \"10m_u_component_of_wind\",\n",
    "    \"10m_v_component_of_wind\",\n",
    "    \"surface_pressure\",\n",
    "    \"total_precipitation\"]\n",
    "\n",
    "var_group_vegetation = [\n",
    "    \"leaf_area_index_high_vegetation\",\n",
    "    \"leaf_area_index_low_vegetation\"]\n",
    "\n",
    "# List of variable group\n",
    "var_group_list = ['var_group_temperature',\n",
    "                  'var_group_lake',\n",
    "                  'var_group_snow',\n",
    "                  'var_group_soil_water',\n",
    "                  'var_group_radiation_and_heat',\n",
    "                  'var_group_evaporation_and_runoff',\n",
    "                  'var_group_wind_pressure_and_precipitation',\n",
    "                  'var_group_vegetation']"
   ]
  },
  {
   "cell_type": "markdown",
   "metadata": {},
   "source": [
    "#### 2. Define request parameters for download"
   ]
  },
  {
   "cell_type": "code",
   "execution_count": 4,
   "metadata": {},
   "outputs": [
    {
     "data": {
      "application/vnd.jupyter.widget-view+json": {
       "model_id": "83c929e54e0941c084323eb60d598db8",
       "version_major": 2,
       "version_minor": 0
      },
      "text/plain": [
       "Dropdown(description='Select a variable group', layout=Layout(width='50%'), options=('var_group_temperature', …"
      ]
     },
     "execution_count": 4,
     "metadata": {},
     "output_type": "execute_result"
    }
   ],
   "source": [
    "import ipywidgets as widgets\n",
    "\n",
    "selected_variable_group = widgets.Dropdown(\n",
    "    options=var_group_list,\n",
    "    value=var_group_list[0],\n",
    "    description=\"Select a variable group\",\n",
    "    style=dict(description_width='initial'),\n",
    "    layout=widgets.Layout(width='50%'),\n",
    ")\n",
    "\n",
    "selected_variable_group"
   ]
  },
  {
   "cell_type": "code",
   "execution_count": 5,
   "metadata": {},
   "outputs": [
    {
     "data": {
      "application/vnd.jupyter.widget-view+json": {
       "model_id": "ff011fccbcb643d18941348749fd7bc9",
       "version_major": 2,
       "version_minor": 0
      },
      "text/plain": [
       "Dropdown(description='Select the variable of interest', layout=Layout(width='50%'), options=('2m_dewpoint_temp…"
      ]
     },
     "execution_count": 5,
     "metadata": {},
     "output_type": "execute_result"
    }
   ],
   "source": [
    "current_variable_group = globals().get(selected_variable_group.value)\n",
    "\n",
    "selected_variable = widgets.Dropdown(\n",
    "    options=current_variable_group,\n",
    "    value=current_variable_group[0],\n",
    "    description=\"Select the variable of interest\",\n",
    "    style=dict(description_width='initial'),\n",
    "    layout=widgets.Layout(width='50%'),\n",
    ")\n",
    "\n",
    "selected_variable"
   ]
  },
  {
   "cell_type": "markdown",
   "metadata": {},
   "source": [
    "#### 3. Define Bounding Box Extents (Bbox) for the Dataset"
   ]
  },
  {
   "cell_type": "code",
   "execution_count": 6,
   "metadata": {},
   "outputs": [],
   "source": [
    "# Define additional request fields to ensure the request stays within the file size limit.\n",
    "# These coordinates were obtained using the BBox Extractor tool: https://str-ucture.github.io/bbox-extractor/\n",
    "\n",
    "bbox_wgs84_deutschland = [56.0, 5.8, 47.2, 15.0]\n",
    "bbox_wgs84_konstanz = [47.9, 8.9, 47.6, 9.3]"
   ]
  },
  {
   "cell_type": "markdown",
   "metadata": {},
   "source": [
    "#### 4. Define request parameters"
   ]
  },
  {
   "cell_type": "code",
   "execution_count": 7,
   "metadata": {},
   "outputs": [],
   "source": [
    "dataset = \"reanalysis-era5-land-monthly-means\"\n",
    "request = {\n",
    "    \"product_type\": [\"monthly_averaged_reanalysis\"],\n",
    "    \"variable\": selected_variable.value,\n",
    "    \"year\": [str(year) for year in range(1950,2024+1,1)],\n",
    "    \"month\": [str(month) for month in range(13)],\n",
    "    \"time\": [\"00:00\"],\n",
    "    \"data_format\": \"netcdf\",\n",
    "    \"download_format\": \"zip\",\n",
    "    \"area\": bbox_wgs84_deutschland\n",
    "}"
   ]
  },
  {
   "cell_type": "code",
   "execution_count": 8,
   "metadata": {},
   "outputs": [
    {
     "name": "stderr",
     "output_type": "stream",
     "text": [
      "2024-12-17 10:15:07,457 INFO [2024-09-28T00:00:00] **Welcome to the New Climate Data Store (CDS)!** This new system is in its early days of full operations and still undergoing enhancements and fine tuning. Some disruptions are to be expected. Your \n",
      "[feedback](https://jira.ecmwf.int/plugins/servlet/desk/portal/1/create/202) is key to improve the user experience on the new CDS for the benefit of everyone. Thank you.\n"
     ]
    },
    {
     "name": "stderr",
     "output_type": "stream",
     "text": [
      "2024-12-17 10:15:07,459 INFO [2024-09-26T00:00:00] Watch our [Forum](https://forum.ecmwf.int/) for Announcements, news and other discussed topics.\n"
     ]
    },
    {
     "name": "stderr",
     "output_type": "stream",
     "text": [
      "2024-12-17 10:15:07,460 INFO [2024-09-16T00:00:00] Remember that you need to have an ECMWF account to use the new CDS. **Your old CDS credentials will not work in new CDS!**\n"
     ]
    },
    {
     "name": "stderr",
     "output_type": "stream",
     "text": [
      "2024-12-17 10:15:07,460 WARNING [2024-06-16T00:00:00] CDS API syntax is changed and some keys or parameter names may have also changed. To avoid requests failing, please use the \"Show API request code\" tool on the dataset Download Form to check you are using the correct syntax for your API request.\n"
     ]
    },
    {
     "name": "stdout",
     "output_type": "stream",
     "text": [
      "Dataset already downloaded.\n"
     ]
    }
   ],
   "source": [
    "# Uncomment and run this cell to download the dataset:\n",
    "dataset_filename = f\"{dataset}_{request['variable']}.zip\"\n",
    "dataset_filepath = os.path.join(download_folder, dataset_filename)\n",
    "\n",
    "def main_retrieve():\n",
    "    # Download the dataset only if the dataset has not been downloaded before\n",
    "    if not os.path.isfile(dataset_filepath):\n",
    "        # Download the dataset with the defined request parameters\n",
    "        client.retrieve(dataset, request, dataset_filepath)\n",
    "    else:\n",
    "        print(\"Dataset already downloaded.\")\n",
    "\n",
    "if __name__ == \"__main__\":\n",
    "    client = main()\n",
    "    main_retrieve()"
   ]
  },
  {
   "cell_type": "markdown",
   "metadata": {},
   "source": [
    "### 2.3 Extract the Zip folder"
   ]
  },
  {
   "cell_type": "code",
   "execution_count": 9,
   "metadata": {},
   "outputs": [
    {
     "name": "stdout",
     "output_type": "stream",
     "text": [
      "Folder is not empty. Skipping extraction.\n"
     ]
    }
   ],
   "source": [
    "import zipfile\n",
    "\n",
    "extract_folder = working_folder\n",
    "\n",
    "# Extract the zip file\n",
    "try:\n",
    "    os.makedirs(extract_folder, exist_ok=True)\n",
    "    \n",
    "    if not os.listdir(extract_folder):\n",
    "        with zipfile.ZipFile(dataset_filepath, 'r') as zip_ref:\n",
    "            zip_ref.extractall(extract_folder)\n",
    "            print(f\"Successfully extracted files to: {extract_folder}\")\n",
    "    else:\n",
    "        print(\"Folder is not empty. Skipping extraction.\")\n",
    "except FileNotFoundError:\n",
    "    print(f\"Error: The file {dataset_filepath} was not found.\")\n",
    "except zipfile.BadZipFile:\n",
    "    print(f\"Error: The file {dataset_filepath} is not a valid zip file.\")\n",
    "except Exception as e:\n",
    "    print(f\"An unexpected error occurred: {e}\")"
   ]
  }
 ],
 "metadata": {
  "kernelspec": {
   "display_name": "myenv",
   "language": "python",
   "name": "python3"
  },
  "language_info": {
   "codemirror_mode": {
    "name": "ipython",
    "version": 3
   },
   "file_extension": ".py",
   "mimetype": "text/x-python",
   "name": "python",
   "nbconvert_exporter": "python",
   "pygments_lexer": "ipython3",
   "version": "3.10.0"
  },
  "widgets": {
   "application/vnd.jupyter.widget-state+json": {
    "state": {
     "70fb26f00cfd4186bb6214c60cd17c9e": {
      "model_module": "@jupyter-widgets/controls",
      "model_module_version": "2.0.0",
      "model_name": "DescriptionStyleModel",
      "state": {
       "_model_module": "@jupyter-widgets/controls",
       "_model_module_version": "2.0.0",
       "_model_name": "DescriptionStyleModel",
       "_view_count": null,
       "_view_module": "@jupyter-widgets/base",
       "_view_module_version": "2.0.0",
       "_view_name": "StyleView",
       "description_width": "initial"
      }
     },
     "83c929e54e0941c084323eb60d598db8": {
      "model_module": "@jupyter-widgets/controls",
      "model_module_version": "2.0.0",
      "model_name": "DropdownModel",
      "state": {
       "_dom_classes": [],
       "_model_module": "@jupyter-widgets/controls",
       "_model_module_version": "2.0.0",
       "_model_name": "DropdownModel",
       "_options_labels": [
        "var_group_temperature",
        "var_group_lake",
        "var_group_snow",
        "var_group_soil_water",
        "var_group_radiation_and_heat",
        "var_group_evaporation_and_runoff",
        "var_group_wind_pressure_and_precipitation",
        "var_group_vegetation"
       ],
       "_view_count": null,
       "_view_module": "@jupyter-widgets/controls",
       "_view_module_version": "2.0.0",
       "_view_name": "DropdownView",
       "description": "Select a variable group",
       "description_allow_html": false,
       "disabled": false,
       "index": 0,
       "layout": "IPY_MODEL_b77641d254344e149b0fc1951fb01a04",
       "style": "IPY_MODEL_70fb26f00cfd4186bb6214c60cd17c9e",
       "tabbable": null,
       "tooltip": null
      }
     },
     "a7b15f9b26d147d6a4e95e385696fe60": {
      "model_module": "@jupyter-widgets/controls",
      "model_module_version": "2.0.0",
      "model_name": "DescriptionStyleModel",
      "state": {
       "_model_module": "@jupyter-widgets/controls",
       "_model_module_version": "2.0.0",
       "_model_name": "DescriptionStyleModel",
       "_view_count": null,
       "_view_module": "@jupyter-widgets/base",
       "_view_module_version": "2.0.0",
       "_view_name": "StyleView",
       "description_width": "initial"
      }
     },
     "b77641d254344e149b0fc1951fb01a04": {
      "model_module": "@jupyter-widgets/base",
      "model_module_version": "2.0.0",
      "model_name": "LayoutModel",
      "state": {
       "_model_module": "@jupyter-widgets/base",
       "_model_module_version": "2.0.0",
       "_model_name": "LayoutModel",
       "_view_count": null,
       "_view_module": "@jupyter-widgets/base",
       "_view_module_version": "2.0.0",
       "_view_name": "LayoutView",
       "align_content": null,
       "align_items": null,
       "align_self": null,
       "border_bottom": null,
       "border_left": null,
       "border_right": null,
       "border_top": null,
       "bottom": null,
       "display": null,
       "flex": null,
       "flex_flow": null,
       "grid_area": null,
       "grid_auto_columns": null,
       "grid_auto_flow": null,
       "grid_auto_rows": null,
       "grid_column": null,
       "grid_gap": null,
       "grid_row": null,
       "grid_template_areas": null,
       "grid_template_columns": null,
       "grid_template_rows": null,
       "height": null,
       "justify_content": null,
       "justify_items": null,
       "left": null,
       "margin": null,
       "max_height": null,
       "max_width": null,
       "min_height": null,
       "min_width": null,
       "object_fit": null,
       "object_position": null,
       "order": null,
       "overflow": null,
       "padding": null,
       "right": null,
       "top": null,
       "visibility": null,
       "width": "50%"
      }
     },
     "f96c776b4f634f9b8d6130709baefd71": {
      "model_module": "@jupyter-widgets/base",
      "model_module_version": "2.0.0",
      "model_name": "LayoutModel",
      "state": {
       "_model_module": "@jupyter-widgets/base",
       "_model_module_version": "2.0.0",
       "_model_name": "LayoutModel",
       "_view_count": null,
       "_view_module": "@jupyter-widgets/base",
       "_view_module_version": "2.0.0",
       "_view_name": "LayoutView",
       "align_content": null,
       "align_items": null,
       "align_self": null,
       "border_bottom": null,
       "border_left": null,
       "border_right": null,
       "border_top": null,
       "bottom": null,
       "display": null,
       "flex": null,
       "flex_flow": null,
       "grid_area": null,
       "grid_auto_columns": null,
       "grid_auto_flow": null,
       "grid_auto_rows": null,
       "grid_column": null,
       "grid_gap": null,
       "grid_row": null,
       "grid_template_areas": null,
       "grid_template_columns": null,
       "grid_template_rows": null,
       "height": null,
       "justify_content": null,
       "justify_items": null,
       "left": null,
       "margin": null,
       "max_height": null,
       "max_width": null,
       "min_height": null,
       "min_width": null,
       "object_fit": null,
       "object_position": null,
       "order": null,
       "overflow": null,
       "padding": null,
       "right": null,
       "top": null,
       "visibility": null,
       "width": "50%"
      }
     },
     "ff011fccbcb643d18941348749fd7bc9": {
      "model_module": "@jupyter-widgets/controls",
      "model_module_version": "2.0.0",
      "model_name": "DropdownModel",
      "state": {
       "_dom_classes": [],
       "_model_module": "@jupyter-widgets/controls",
       "_model_module_version": "2.0.0",
       "_model_name": "DropdownModel",
       "_options_labels": [
        "2m_dewpoint_temperature",
        "2m_temperature",
        "skin_temperature",
        "soil_temperature_level_1",
        "soil_temperature_level_2",
        "soil_temperature_level_3",
        "soil_temperature_level_4"
       ],
       "_view_count": null,
       "_view_module": "@jupyter-widgets/controls",
       "_view_module_version": "2.0.0",
       "_view_name": "DropdownView",
       "description": "Select the variable of interest",
       "description_allow_html": false,
       "disabled": false,
       "index": 0,
       "layout": "IPY_MODEL_f96c776b4f634f9b8d6130709baefd71",
       "style": "IPY_MODEL_a7b15f9b26d147d6a4e95e385696fe60",
       "tabbable": null,
       "tooltip": null
      }
     }
    },
    "version_major": 2,
    "version_minor": 0
   }
  }
 },
 "nbformat": 4,
 "nbformat_minor": 2
}