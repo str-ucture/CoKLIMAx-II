{
 "cells": [
  {
   "cell_type": "markdown",
   "id": "bac698cd",
   "metadata": {},
   "source": [
    "# Temperature Statistics for Europe\n",
    "\n",
    "Deroived from climate projections\n",
    "\n",
    "This dataset provides temperature exposure statistics for Europe, focusing on daily 2-meter air temperature (mean, minimum, and maximum) for entire years, as well as for winter (DJF) and summer (JJA) seasons. Derived using bias-adjusted EURO-CORDEX data, the statistics span a smoothed 30-year average from 1971 to 2100, resulting in a timeseries from 1986 to 2085, with model ensemble averages and associated standard deviations included. These temperature percentiles are crucial in public health and epidemiology for assessing health risks and impacts, enabling comparisons across regions under various climate change scenarios.\n",
    "\n",
    "**Information on Dataset:**\n",
    "* Source: [Temperature Statistics for Europe](https://cds.climate.copernicus.eu/datasets/sis-temperature-statistics?tab=overview)\n",
    "* Author:\n",
    "* Notebook Version: 1.0 (Updated: December 02. 2024)"
   ]
  },
  {
   "cell_type": "markdown",
   "id": "a13c4c69",
   "metadata": {},
   "source": [
    "## 1. Specifying the paths and working directories"
   ]
  },
  {
   "cell_type": "code",
   "execution_count": 1,
   "id": "be75da3a-e76a-4638-9369-74021000be9d",
   "metadata": {},
   "outputs": [],
   "source": [
    "import os\n",
    "\n",
    "''' ---- Hier die Verzeichnisse angeben ---- '''\n",
    "download_folder = r\".\\data\\sis-temperature-statistics\\download\"\n",
    "working_folder = r\".\\data\\sis-temperature-statistics\\working\"\n",
    "geotiff_folder = r\".\\data\\sis-temperature-statistics\\geotiff\"\n",
    "csv_folder = r\".\\data\\sis-temperature-statistics\\csv\"\n",
    "output_folder = r\".\\data\\sis-temperature-statistics\\output\"\n",
    "''' ----- Ende der Eingaben ---- '''\n",
    "\n",
    "os.makedirs(download_folder, exist_ok=True)\n",
    "os.makedirs(working_folder, exist_ok=True)\n",
    "os.makedirs(geotiff_folder, exist_ok=True)\n",
    "os.makedirs(csv_folder, exist_ok=True)\n",
    "os.makedirs(output_folder, exist_ok=True)"
   ]
  },
  {
   "cell_type": "markdown",
   "id": "bf5a038c",
   "metadata": {},
   "source": [
    "## 2. Download and Extract Dataset"
   ]
  },
  {
   "cell_type": "markdown",
   "id": "e7ea3e72",
   "metadata": {},
   "source": [
    "### 2.1 Authentication"
   ]
  },
  {
   "cell_type": "code",
   "execution_count": 2,
   "id": "1266bff9",
   "metadata": {},
   "outputs": [],
   "source": [
    "import cdsapi\n",
    "\n",
    "def main():\n",
    "    api_key = \"fdae60fd-35d4-436f-825c-c63fedab94a4\"\n",
    "    api_url = \"https://cds.climate.copernicus.eu/api\"\n",
    "    client = cdsapi.Client(url=api_url, key=api_key)\n",
    "    return client"
   ]
  },
  {
   "cell_type": "markdown",
   "id": "4fb5987e",
   "metadata": {},
   "source": [
    "### 2.2 Request Definition and Download"
   ]
  },
  {
   "cell_type": "code",
   "execution_count": 3,
   "id": "aefce33c",
   "metadata": {},
   "outputs": [
    {
     "data": {
      "text/plain": [
       "[55.2, 5.7, 47.1, 15.2]"
      ]
     },
     "execution_count": 3,
     "metadata": {},
     "output_type": "execute_result"
    }
   ],
   "source": [
    "# Define additional request fields to ensure the request stays within the file size limit.\n",
    "# These coordinates were obtained using the BBox Extractor tool:\n",
    "# https://str-ucture.github.io/bbox-extractor/\n",
    "\n",
    "bbox_wgs84_deutschland = [56.0, 5.8, 47.2, 15.0]\n",
    "bbox_wgs84_konstanz = [47.9, 8.9, 47.6, 9.3]\n",
    "\n",
    "# Alternatively, use a shapefile for precise geographic filtering\n",
    "import geopandas as gpd\n",
    "import math\n",
    "\n",
    "# Example: Load shapefile of Konstanz (WGS84 projection)\n",
    "de_shapefile = r\"./shapefiles/de_boundary.shp\"\n",
    "de_gdf = gpd.read_file(de_shapefile)\n",
    "de_bounds = de_gdf.total_bounds\n",
    "\n",
    "# Adjust and buffer\n",
    "de_bounds_adjusted = [(math.floor(de_bounds[0]* 10)/10)-0.1,\n",
    "                      (math.floor(de_bounds[1]* 10)/10)-0.1,\n",
    "                      (math.ceil(de_bounds[2]* 10)/10)+0.1,\n",
    "                      (math.ceil(de_bounds[3]* 10)/10)+0.1]\n",
    "\n",
    "bbox_de_bounds_adjusted = [de_bounds_adjusted[3], de_bounds_adjusted[0],\n",
    "                           de_bounds_adjusted[1], de_bounds_adjusted[2]]\n",
    "\n",
    "bbox_de_bounds_adjusted"
   ]
  },
  {
   "cell_type": "code",
   "execution_count": 4,
   "id": "80dd9e85-f124-4457-808e-b6ff3df3989f",
   "metadata": {},
   "outputs": [],
   "source": [
    "dataset = \"sis-temperature-statistics\"\n",
    "request = {\n",
    "    \"variable\": \"average_temperature\", # Options: \"average/ minimum/ maximum\" _temperature\n",
    "    \"period\": \"year\",\n",
    "    \"statistic\": [\n",
    "        \"time_average\",\n",
    "        \"10th_percentile\",\n",
    "        \"90th_percentile\"\n",
    "    ],\n",
    "    \"experiment\": [\n",
    "        \"rcp4_5\",\n",
    "        \"rcp8_5\"\n",
    "    ],\n",
    "    \"ensemble_statistic\": [\n",
    "        \"ensemble_members_average\",\n",
    "        \"ensemble_members_standard_deviation\"\n",
    "    ],\n",
    "    \"area\": bbox_de_bounds_adjusted\n",
    "}"
   ]
  },
  {
   "cell_type": "code",
   "execution_count": 5,
   "id": "c49cc794",
   "metadata": {},
   "outputs": [
    {
     "name": "stderr",
     "output_type": "stream",
     "text": [
      "2024-12-17 09:50:28,888 INFO [2024-09-28T00:00:00] **Welcome to the New Climate Data Store (CDS)!** This new system is in its early days of full operations and still undergoing enhancements and fine tuning. Some disruptions are to be expected. Your \n",
      "[feedback](https://jira.ecmwf.int/plugins/servlet/desk/portal/1/create/202) is key to improve the user experience on the new CDS for the benefit of everyone. Thank you.\n"
     ]
    },
    {
     "name": "stderr",
     "output_type": "stream",
     "text": [
      "2024-12-17 09:50:28,891 INFO [2024-09-26T00:00:00] Watch our [Forum](https://forum.ecmwf.int/) for Announcements, news and other discussed topics.\n"
     ]
    },
    {
     "name": "stderr",
     "output_type": "stream",
     "text": [
      "2024-12-17 09:50:28,892 INFO [2024-09-16T00:00:00] Remember that you need to have an ECMWF account to use the new CDS. **Your old CDS credentials will not work in new CDS!**\n"
     ]
    },
    {
     "name": "stderr",
     "output_type": "stream",
     "text": [
      "2024-12-17 09:50:28,892 WARNING [2024-06-16T00:00:00] CDS API syntax is changed and some keys or parameter names may have also changed. To avoid requests failing, please use the \"Show API request code\" tool on the dataset Download Form to check you are using the correct syntax for your API request.\n"
     ]
    },
    {
     "name": "stdout",
     "output_type": "stream",
     "text": [
      "Dataset already downloaded.\n"
     ]
    }
   ],
   "source": [
    "# Uncomment and run this cell to download the dataset:\n",
    "\n",
    "def main_retrieve():\n",
    "    dataset_filename = f\"{dataset}_{request['variable']}.zip\"\n",
    "    dataset_filepath = os.path.join(download_folder, dataset_filename)\n",
    "\n",
    "    # Download the dataset only if the dataset has not been downloaded before\n",
    "    if not os.path.isfile(dataset_filepath):\n",
    "        # Download the dataset with the defined request parameters\n",
    "        client.retrieve(dataset, request, dataset_filepath)\n",
    "    else:\n",
    "        print(\"Dataset already downloaded.\")\n",
    "\n",
    "if __name__ == \"__main__\":\n",
    "    client = main()\n",
    "    main_retrieve()"
   ]
  },
  {
   "cell_type": "markdown",
   "id": "79225c6e",
   "metadata": {},
   "source": [
    "### 2.3 Extract the Zip folder"
   ]
  },
  {
   "cell_type": "code",
   "execution_count": 6,
   "id": "04559a4d-81fe-4906-9899-0de084367ade",
   "metadata": {},
   "outputs": [
    {
     "name": "stdout",
     "output_type": "stream",
     "text": [
      "Folder is not empty. Skipping extraction.\n"
     ]
    }
   ],
   "source": [
    "import zipfile\n",
    "\n",
    "dataset_filename = f\"{dataset}_{request['variable']}.zip\"\n",
    "dataset_filepath = os.path.join(download_folder, dataset_filename)\n",
    "extract_folder = os.path.join(working_folder, f\"{request['variable']}\")\n",
    "\n",
    "# Extract the zip file\n",
    "try:\n",
    "    os.makedirs(extract_folder, exist_ok=True)\n",
    "    \n",
    "    if not os.listdir(extract_folder):\n",
    "        with zipfile.ZipFile(dataset_filepath, 'r') as zip_ref:\n",
    "            zip_ref.extractall(extract_folder)\n",
    "            print(f\"Successfully extracted files to: {extract_folder}\")\n",
    "    else:\n",
    "        print(\"Folder is not empty. Skipping extraction.\")\n",
    "except FileNotFoundError:\n",
    "    print(f\"Error: The file {dataset_filepath} was not found.\")\n",
    "except zipfile.BadZipFile:\n",
    "    print(f\"Error: The file {dataset_filepath} is not a valid zip file.\")\n",
    "except Exception as e:\n",
    "    print(f\"An unexpected error occurred: {e}\")"
   ]
  },
  {
   "cell_type": "markdown",
   "id": "7f05cafc",
   "metadata": {},
   "source": [
    "## 3. Read the netCDF file and print the metadata"
   ]
  },
  {
   "cell_type": "code",
   "execution_count": 7,
   "id": "b00f563d",
   "metadata": {},
   "outputs": [
    {
     "data": {
      "text/html": [
       "<div>\n",
       "<style scoped>\n",
       "    .dataframe tbody tr th:only-of-type {\n",
       "        vertical-align: middle;\n",
       "    }\n",
       "\n",
       "    .dataframe tbody tr th {\n",
       "        vertical-align: top;\n",
       "    }\n",
       "\n",
       "    .dataframe thead th {\n",
       "        text-align: right;\n",
       "    }\n",
       "</style>\n",
       "<table border=\"1\" class=\"dataframe\">\n",
       "  <thead>\n",
       "    <tr style=\"text-align: right;\">\n",
       "      <th></th>\n",
       "      <th>filename</th>\n",
       "      <th>path</th>\n",
       "      <th>variable</th>\n",
       "      <th>temperature_type</th>\n",
       "      <th>rcp</th>\n",
       "      <th>statistic</th>\n",
       "      <th>version</th>\n",
       "    </tr>\n",
       "  </thead>\n",
       "  <tbody>\n",
       "    <tr>\n",
       "      <th>0</th>\n",
       "      <td>mean_Tmean_Yearly_rcp45_me...</td>\n",
       "      <td>.\\data\\sis-temperature-sta...</td>\n",
       "      <td>mean</td>\n",
       "      <td>Tmean</td>\n",
       "      <td>rcp45</td>\n",
       "      <td>mean</td>\n",
       "      <td>1.0</td>\n",
       "    </tr>\n",
       "    <tr>\n",
       "      <th>1</th>\n",
       "      <td>mean_Tmean_Yearly_rcp45_st...</td>\n",
       "      <td>.\\data\\sis-temperature-sta...</td>\n",
       "      <td>mean</td>\n",
       "      <td>Tmean</td>\n",
       "      <td>rcp45</td>\n",
       "      <td>stdev</td>\n",
       "      <td>1.0</td>\n",
       "    </tr>\n",
       "    <tr>\n",
       "      <th>2</th>\n",
       "      <td>mean_Tmean_Yearly_rcp85_me...</td>\n",
       "      <td>.\\data\\sis-temperature-sta...</td>\n",
       "      <td>mean</td>\n",
       "      <td>Tmean</td>\n",
       "      <td>rcp85</td>\n",
       "      <td>mean</td>\n",
       "      <td>1.0</td>\n",
       "    </tr>\n",
       "    <tr>\n",
       "      <th>3</th>\n",
       "      <td>mean_Tmean_Yearly_rcp85_st...</td>\n",
       "      <td>.\\data\\sis-temperature-sta...</td>\n",
       "      <td>mean</td>\n",
       "      <td>Tmean</td>\n",
       "      <td>rcp85</td>\n",
       "      <td>stdev</td>\n",
       "      <td>1.0</td>\n",
       "    </tr>\n",
       "    <tr>\n",
       "      <th>4</th>\n",
       "      <td>p10_Tmean_Yearly_rcp45_mea...</td>\n",
       "      <td>.\\data\\sis-temperature-sta...</td>\n",
       "      <td>p10</td>\n",
       "      <td>Tmean</td>\n",
       "      <td>rcp45</td>\n",
       "      <td>mean</td>\n",
       "      <td>1.0</td>\n",
       "    </tr>\n",
       "    <tr>\n",
       "      <th>5</th>\n",
       "      <td>p10_Tmean_Yearly_rcp45_std...</td>\n",
       "      <td>.\\data\\sis-temperature-sta...</td>\n",
       "      <td>p10</td>\n",
       "      <td>Tmean</td>\n",
       "      <td>rcp45</td>\n",
       "      <td>stdev</td>\n",
       "      <td>1.0</td>\n",
       "    </tr>\n",
       "    <tr>\n",
       "      <th>6</th>\n",
       "      <td>p10_Tmean_Yearly_rcp85_mea...</td>\n",
       "      <td>.\\data\\sis-temperature-sta...</td>\n",
       "      <td>p10</td>\n",
       "      <td>Tmean</td>\n",
       "      <td>rcp85</td>\n",
       "      <td>mean</td>\n",
       "      <td>1.0</td>\n",
       "    </tr>\n",
       "    <tr>\n",
       "      <th>7</th>\n",
       "      <td>p10_Tmean_Yearly_rcp85_std...</td>\n",
       "      <td>.\\data\\sis-temperature-sta...</td>\n",
       "      <td>p10</td>\n",
       "      <td>Tmean</td>\n",
       "      <td>rcp85</td>\n",
       "      <td>stdev</td>\n",
       "      <td>1.0</td>\n",
       "    </tr>\n",
       "    <tr>\n",
       "      <th>8</th>\n",
       "      <td>p90_Tmean_Yearly_rcp45_mea...</td>\n",
       "      <td>.\\data\\sis-temperature-sta...</td>\n",
       "      <td>p90</td>\n",
       "      <td>Tmean</td>\n",
       "      <td>rcp45</td>\n",
       "      <td>mean</td>\n",
       "      <td>1.0</td>\n",
       "    </tr>\n",
       "    <tr>\n",
       "      <th>9</th>\n",
       "      <td>p90_Tmean_Yearly_rcp45_std...</td>\n",
       "      <td>.\\data\\sis-temperature-sta...</td>\n",
       "      <td>p90</td>\n",
       "      <td>Tmean</td>\n",
       "      <td>rcp45</td>\n",
       "      <td>stdev</td>\n",
       "      <td>1.0</td>\n",
       "    </tr>\n",
       "    <tr>\n",
       "      <th>10</th>\n",
       "      <td>p90_Tmean_Yearly_rcp85_mea...</td>\n",
       "      <td>.\\data\\sis-temperature-sta...</td>\n",
       "      <td>p90</td>\n",
       "      <td>Tmean</td>\n",
       "      <td>rcp85</td>\n",
       "      <td>mean</td>\n",
       "      <td>1.0</td>\n",
       "    </tr>\n",
       "    <tr>\n",
       "      <th>11</th>\n",
       "      <td>p90_Tmean_Yearly_rcp85_std...</td>\n",
       "      <td>.\\data\\sis-temperature-sta...</td>\n",
       "      <td>p90</td>\n",
       "      <td>Tmean</td>\n",
       "      <td>rcp85</td>\n",
       "      <td>stdev</td>\n",
       "      <td>1.0</td>\n",
       "    </tr>\n",
       "  </tbody>\n",
       "</table>\n",
       "</div>"
      ],
      "text/plain": [
       "                         filename                           path variable  \\\n",
       "0   mean_Tmean_Yearly_rcp45_me...  .\\data\\sis-temperature-sta...     mean   \n",
       "1   mean_Tmean_Yearly_rcp45_st...  .\\data\\sis-temperature-sta...     mean   \n",
       "2   mean_Tmean_Yearly_rcp85_me...  .\\data\\sis-temperature-sta...     mean   \n",
       "3   mean_Tmean_Yearly_rcp85_st...  .\\data\\sis-temperature-sta...     mean   \n",
       "4   p10_Tmean_Yearly_rcp45_mea...  .\\data\\sis-temperature-sta...      p10   \n",
       "5   p10_Tmean_Yearly_rcp45_std...  .\\data\\sis-temperature-sta...      p10   \n",
       "6   p10_Tmean_Yearly_rcp85_mea...  .\\data\\sis-temperature-sta...      p10   \n",
       "7   p10_Tmean_Yearly_rcp85_std...  .\\data\\sis-temperature-sta...      p10   \n",
       "8   p90_Tmean_Yearly_rcp45_mea...  .\\data\\sis-temperature-sta...      p90   \n",
       "9   p90_Tmean_Yearly_rcp45_std...  .\\data\\sis-temperature-sta...      p90   \n",
       "10  p90_Tmean_Yearly_rcp85_mea...  .\\data\\sis-temperature-sta...      p90   \n",
       "11  p90_Tmean_Yearly_rcp85_std...  .\\data\\sis-temperature-sta...      p90   \n",
       "\n",
       "   temperature_type    rcp statistic version  \n",
       "0             Tmean  rcp45      mean     1.0  \n",
       "1             Tmean  rcp45     stdev     1.0  \n",
       "2             Tmean  rcp85      mean     1.0  \n",
       "3             Tmean  rcp85     stdev     1.0  \n",
       "4             Tmean  rcp45      mean     1.0  \n",
       "5             Tmean  rcp45     stdev     1.0  \n",
       "6             Tmean  rcp85      mean     1.0  \n",
       "7             Tmean  rcp85     stdev     1.0  \n",
       "8             Tmean  rcp45      mean     1.0  \n",
       "9             Tmean  rcp45     stdev     1.0  \n",
       "10            Tmean  rcp85      mean     1.0  \n",
       "11            Tmean  rcp85     stdev     1.0  "
      ]
     },
     "execution_count": 7,
     "metadata": {},
     "output_type": "execute_result"
    }
   ],
   "source": [
    "import re\n",
    "import pandas as pd\n",
    "\n",
    "def meta(filename):\n",
    "    match = re.search(r'^(mean|p10|p90)_(Tmean|Tmax|Tmin)_Yearly_(rcp\\d{2})_(mean|stdev)_v(\\d+\\.\\d+)\\.', filename)\n",
    "    if not match:\n",
    "        raise ValueError(\"the given filename does not fit the expected naming scheme\")\n",
    "    \n",
    "    var = match.group(1)\n",
    "    return dict(\n",
    "        filename=filename,\n",
    "        path=os.path.join(extract_folder, filename),\n",
    "        variable=match.group(1),   # Die Variable (mean, p10 oder p90)\n",
    "        temperature_type=match.group(2),  # Die Temperaturart (Tmean, Tmax oder Tmin)\n",
    "        rcp=match.group(3),         # RCP (z.B. rcp85)\n",
    "        statistic=match.group(4),   # Statistik (mean oder stdev)\n",
    "        version=match.group(5),      # Version\n",
    "    )\n",
    "\n",
    "# Beispielverzeichnis (angepasst an deine Umgebung)\n",
    "nc_files = [meta(f) for f in os.listdir(extract_folder) if f.endswith('.nc')]\n",
    "df_nc_files = pd.DataFrame.from_dict(nc_files)\n",
    "\n",
    "# Modify pandas display options\n",
    "pd.options.display.max_colwidth = 30\n",
    "\n",
    "# Display the DataFrame\n",
    "df_nc_files"
   ]
  },
  {
   "cell_type": "markdown",
   "id": "14605970",
   "metadata": {},
   "source": [
    "### 3.1 For variable = 'mean'"
   ]
  },
  {
   "cell_type": "code",
   "execution_count": 8,
   "id": "2bb45d19",
   "metadata": {},
   "outputs": [
    {
     "name": "stdout",
     "output_type": "stream",
     "text": [
      "Available variables: ['mean_Tmean_Yearly', 'height', 'lat', 'lon', 'time']\n"
     ]
    }
   ],
   "source": [
    "import netCDF4 as nc\n",
    "\n",
    "# Open the NetCDF file in read mode\n",
    "nc_dataset = nc.Dataset(df_nc_files['path'][0], mode='r')\n",
    "\n",
    "# List all variables in the dataset\n",
    "variables_list = nc_dataset.variables.keys()\n",
    "print(f\"Available variables: {list(variables_list)}\")"
   ]
  },
  {
   "cell_type": "code",
   "execution_count": 9,
   "id": "a851722f",
   "metadata": {},
   "outputs": [
    {
     "data": {
      "text/html": [
       "<div>\n",
       "<style scoped>\n",
       "    .dataframe tbody tr th:only-of-type {\n",
       "        vertical-align: middle;\n",
       "    }\n",
       "\n",
       "    .dataframe tbody tr th {\n",
       "        vertical-align: top;\n",
       "    }\n",
       "\n",
       "    .dataframe thead th {\n",
       "        text-align: right;\n",
       "    }\n",
       "</style>\n",
       "<table border=\"1\" class=\"dataframe\">\n",
       "  <thead>\n",
       "    <tr style=\"text-align: right;\">\n",
       "      <th></th>\n",
       "      <th>Description</th>\n",
       "      <th>Remarks</th>\n",
       "    </tr>\n",
       "  </thead>\n",
       "  <tbody>\n",
       "    <tr>\n",
       "      <th>0</th>\n",
       "      <td>Variable Name</td>\n",
       "      <td>mean_Tmean_Yearly</td>\n",
       "    </tr>\n",
       "    <tr>\n",
       "      <th>1</th>\n",
       "      <td>Data Type</td>\n",
       "      <td>float32</td>\n",
       "    </tr>\n",
       "    <tr>\n",
       "      <th>2</th>\n",
       "      <td>Shape</td>\n",
       "      <td>(100, 82, 95)</td>\n",
       "    </tr>\n",
       "    <tr>\n",
       "      <th>3</th>\n",
       "      <td>Variable Info</td>\n",
       "      <td>mean_Tmean_Yearly(time, la...</td>\n",
       "    </tr>\n",
       "    <tr>\n",
       "      <th>4</th>\n",
       "      <td>Units</td>\n",
       "      <td>degrees C</td>\n",
       "    </tr>\n",
       "    <tr>\n",
       "      <th>5</th>\n",
       "      <td>Long Name</td>\n",
       "      <td>Ensemble members average o...</td>\n",
       "    </tr>\n",
       "  </tbody>\n",
       "</table>\n",
       "</div>"
      ],
      "text/plain": [
       "     Description                        Remarks\n",
       "0  Variable Name              mean_Tmean_Yearly\n",
       "1      Data Type                        float32\n",
       "2          Shape                  (100, 82, 95)\n",
       "3  Variable Info  mean_Tmean_Yearly(time, la...\n",
       "4          Units                      degrees C\n",
       "5      Long Name  Ensemble members average o..."
      ]
     },
     "execution_count": 9,
     "metadata": {},
     "output_type": "execute_result"
    }
   ],
   "source": [
    "# Define variable name from available variables and read variable data\n",
    "variable_name = 'mean_Tmean_Yearly'\n",
    "variable_data = nc_dataset[variable_name]\n",
    "\n",
    "# Generate summary of the primary variable\n",
    "summary = {\n",
    "    \"Variable Name\": variable_name,\n",
    "    \"Data Type\": variable_data.dtype,\n",
    "    \"Shape\": variable_data.shape,\n",
    "    \"Variable Info\": f\"{variable_name}({', '.join(variable_data.dimensions)})\",\n",
    "    \"Units\": getattr(variable_data, \"units\", \"N/A\"),\n",
    "    \"Long Name\": getattr(variable_data, \"long_name\", \"N/A\"),\n",
    "}\n",
    "\n",
    "# Display dataset summary as a DataFrame for better visualization\n",
    "nc_summary = pd.DataFrame(list(summary.items()), columns=['Description', 'Remarks'])\n",
    "\n",
    "# Display the summary DataFrame\n",
    "nc_summary"
   ]
  },
  {
   "cell_type": "code",
   "execution_count": 10,
   "id": "824f9483",
   "metadata": {},
   "outputs": [],
   "source": [
    "nc_file = nc_files[0]\n",
    "\n",
    "nc_dataset = nc.Dataset(nc_file['path'], 'r')\n",
    "\n",
    "time_var = nc_dataset.variables['time']\n",
    "time_units = time_var.units\n",
    "time_calendar = getattr(time_var, \"calendar\", \"standard\")\n",
    "cftime = nc.num2date(time_var[:], units=time_units, calendar=time_calendar)"
   ]
  }
 ],
 "metadata": {
  "kernelspec": {
   "display_name": "myenv",
   "language": "python",
   "name": "python3"
  },
  "language_info": {
   "codemirror_mode": {
    "name": "ipython",
    "version": 3
   },
   "file_extension": ".py",
   "mimetype": "text/x-python",
   "name": "python",
   "nbconvert_exporter": "python",
   "pygments_lexer": "ipython3",
   "version": "3.10.0"
  },
  "widgets": {
   "application/vnd.jupyter.widget-state+json": {
    "state": {},
    "version_major": 2,
    "version_minor": 0
   }
  }
 },
 "nbformat": 4,
 "nbformat_minor": 5
}