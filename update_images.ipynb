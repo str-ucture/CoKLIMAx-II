{
 "cells": [
  {
   "cell_type": "code",
   "execution_count": 17,
   "metadata": {},
   "outputs": [
    {
     "name": "stdout",
     "output_type": "stream",
     "text": [
      "./source_en\\notebooks\\kurs1\\images\n",
      "./docs\\notebooks\\kurs1\\images\n",
      "./source_en\\notebooks\\kurs2\\images\n",
      "./docs\\notebooks\\kurs2\\images\n",
      "./source_en\\notebooks\\kurs_not_defined\\images\n",
      "./docs\\notebooks\\kurs_not_defined\\images\n"
     ]
    }
   ],
   "source": [
    "import os\n",
    "import shutil\n",
    "\n",
    "def copy_images(root_folder):\n",
    "    for dirpath, dirnames, filenames in os.walk(root_folder):\n",
    "        if \"images\" in dirnames:\n",
    "            source_images_dirpath = os.path.join(dirpath, \"images\")\n",
    "            print(source_images_dirpath)\n",
    "\n",
    "            dir_seq = source_images_dirpath.split(os.sep)\n",
    "\n",
    "            target_image_dirpath = os.path.join(\"./docs\", dir_seq[1], dir_seq[2], dir_seq[3])\n",
    "            print(target_image_dirpath)\n",
    "            \n",
    "            try:\n",
    "                shutil.copytree(source_images_dirpath, target_image_dirpath)\n",
    "            except FileExistsError:\n",
    "                print(f\"The folder {target_image_dirpath} already exists\")\n",
    "            except Exception as e:\n",
    "                print(f\"An error occurred: {e}\")\n",
    "\n",
    "# Replace 'your_root_folder_path' with the actual path to your root folder\n",
    "copy_images(root_folder = \"./source_en\")\n",
    "\n"
   ]
  }
 ],
 "metadata": {
  "kernelspec": {
   "display_name": "myenv",
   "language": "python",
   "name": "python3"
  },
  "language_info": {
   "codemirror_mode": {
    "name": "ipython",
    "version": 3
   },
   "file_extension": ".py",
   "mimetype": "text/x-python",
   "name": "python",
   "nbconvert_exporter": "python",
   "pygments_lexer": "ipython3",
   "version": "3.10.16"
  }
 },
 "nbformat": 4,
 "nbformat_minor": 2
}
